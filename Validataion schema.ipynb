{
 "cells": [
  {
   "cell_type": "markdown",
   "id": "d2b387c6",
   "metadata": {},
   "source": [
    "### Validation schema"
   ]
  },
  {
   "cell_type": "code",
   "execution_count": 4,
   "id": "437116e6",
   "metadata": {},
   "outputs": [],
   "source": [
    "# linear algebra\n",
    "import numpy as np\n",
    "\n",
    "#working with data in table structers\n",
    "import pandas as pd\n",
    "pd.set_option('display.float_format', lambda x: '%.2f' % x)\n",
    "\n",
    "# data visualization\n",
    "import seaborn as sns\n",
    "import matplotlib.pyplot as plt\n",
    "\n",
    "\n",
    "# working with files\n",
    "import sys\n",
    "import os\n",
    "\n",
    "# to off warnings\n",
    "import warnings\n",
    "warnings.filterwarnings('ignore')\n",
    "\n",
    "# validation schema \n",
    "import time\n",
    "from sklearn.model_selection import train_test_split\n",
    "from datetime import timedelta, datetime\n",
    "from sklearn.model_selection import TimeSeriesSplit\n",
    "from sklearn.metrics import mean_squared_error as mse\n",
    "from sklearn.preprocessing import StandardScaler\n",
    "from sklearn.preprocessing import MinMaxScaler\n",
    "\n",
    "# models\n",
    "from sklearn.linear_model import Ridge\n",
    "from sklearn.svm import SVR\n",
    "from sklearn.tree import DecisionTreeRegressor\n",
    "from sklearn.ensemble import RandomForestRegressor\n",
    "import lightgbm as lgb\n",
    "from xgboost import XGBRegressor\n",
    "import catboost as cb"
   ]
  },
  {
   "cell_type": "code",
   "execution_count": 5,
   "id": "0a3e721b",
   "metadata": {},
   "outputs": [],
   "source": [
    "# # using ray engine for parallel calculation(for oprimization)\n",
    "# %env MODIN_ENGINE=ray\n",
    "# import modin.pandas as mpd"
   ]
  },
  {
   "cell_type": "markdown",
   "id": "b039bbbc",
   "metadata": {},
   "source": [
    "### Read data"
   ]
  },
  {
   "cell_type": "code",
   "execution_count": 6,
   "id": "2ed819f5",
   "metadata": {},
   "outputs": [],
   "source": [
    "# add data path to sys.path \n",
    "train_test_data_path = \"C:\\\\Repository\\\\DS-Intership-data\\\\train_test_data\\\\\"\n",
    "sys.path.append(train_test_data_path)\n",
    "\n",
    "# initiate dict for data\n",
    "to_read_train_test_data = {}\n",
    "\n",
    "# fill to_read\n",
    "for dir_name, _, files in os.walk(train_test_data_path):\n",
    "    for file in files:\n",
    "        to_read_train_test_data[file] = dir_name + file"
   ]
  },
  {
   "cell_type": "code",
   "execution_count": 7,
   "id": "252c8586",
   "metadata": {},
   "outputs": [
    {
     "data": {
      "text/plain": [
       "{'submission_example.csv': 'C:\\\\Repository\\\\DS-Intership-data\\\\train_test_data\\\\submission_example.csv',\n",
       " 'test_data.csv': 'C:\\\\Repository\\\\DS-Intership-data\\\\train_test_data\\\\test_data.csv',\n",
       " 'train_data.csv': 'C:\\\\Repository\\\\DS-Intership-data\\\\train_test_data\\\\train_data.csv'}"
      ]
     },
     "execution_count": 7,
     "metadata": {},
     "output_type": "execute_result"
    }
   ],
   "source": [
    "# check to_read\n",
    "to_read_train_test_data"
   ]
  },
  {
   "cell_type": "code",
   "execution_count": 8,
   "id": "eaf1415d",
   "metadata": {},
   "outputs": [
    {
     "name": "stdout",
     "output_type": "stream",
     "text": [
      "CPU times: total: 20.6 s\n",
      "Wall time: 23.4 s\n"
     ]
    }
   ],
   "source": [
    "%%time\n",
    "data = {}\n",
    "# read data\n",
    "for file, path in to_read_train_test_data.items():\n",
    "    data[file.split('.')[0]] = pd.read_csv(os.path.join(os.path.dirname(path), file), index_col=0)"
   ]
  },
  {
   "cell_type": "markdown",
   "id": "7181d836",
   "metadata": {},
   "source": [
    "### Validation schema creation"
   ]
  },
  {
   "cell_type": "code",
   "execution_count": 9,
   "id": "8f1b6e05",
   "metadata": {},
   "outputs": [],
   "source": [
    "\"\"\"\n",
    "    The following indexes will be used:\n",
    "        \n",
    "        from train_data:\n",
    "          date_block_num\n",
    "          shop_id\n",
    "          item_category_id\n",
    "          item_id\n",
    "          item_cnt_month\n",
    "        \n",
    "        from test_data:\n",
    "            shop_id',\n",
    "            'item_id',\n",
    "            'ID'\n",
    "\n",
    "    Concept:\n",
    "        Apply expanding window validation (except last month - target of competition)\n",
    "        Monthly predictions\n",
    "\"\"\"\n",
    "\n",
    "class Validation:\n",
    "    def __init__(self,\n",
    "                 train_data,\n",
    "                 test_data,\n",
    "                 submission_example,\n",
    "                 metrics=['rmse'],\n",
    "                 n_splits=5,\n",
    "                 model=DecisionTreeRegressor(max_depth=1, random_state=42),\n",
    "                 check_nans = True,\n",
    "                 dropna = False,\n",
    "                 check_infs = True\n",
    "                ):\n",
    "        self.train_data = train_data\n",
    "        self.test_data = test_data\n",
    "        self.submission_example = submission_example\n",
    "        self.metrics = metrics\n",
    "        self.n_splits = n_splits\n",
    "        self.model = model\n",
    "        self.tscv = TimeSeriesSplit(n_splits=self.n_splits)\n",
    "    \n",
    "        # Check data for valid columns\n",
    "        assert set([\n",
    "                    'date_block_num',\n",
    "                    'shop_id',\n",
    "                    'item_category_id',\n",
    "                    'item_id',\n",
    "                    'item_cnt_month'\n",
    "                   ]).issubset(train_data.columns),\\\n",
    "                \"Invalid data\"\n",
    "        \n",
    "        assert set([\n",
    "                    'shop_id',\n",
    "                    'item_category_id',\n",
    "                    'item_id',\n",
    "                   ]).issubset(test_data.columns),\\\n",
    "                \"Invalid data\"\n",
    "        \n",
    "        assert set([\n",
    "                    'shop_id',\n",
    "                    'item_id',\n",
    "                    'ID'\n",
    "                    ]).issubset(submission_example.columns),\\\n",
    "                \"Invalid data\"\n",
    "        \n",
    "        # Check for valid variables\n",
    "        if dropna:\n",
    "            self.train_data = self.train_data.dropna()\n",
    "            self.test_data = self.test_data.dropna()\n",
    "            \n",
    "        if check_nans:\n",
    "            assert self.train_data.isna().sum().sum() == 0, 'Train data have NaNs'\n",
    "        if check_infs:\n",
    "            assert np.isfinite(self.train_data).sum().sum() != 0, 'Train data have Infs'\n",
    "        if check_nans:\n",
    "            assert self.test_data.isna().sum().sum() == 0, 'Test data have NaNs'\n",
    "        if check_infs:\n",
    "            assert np.isfinite(self.test_data).sum().sum() != 0, 'Test data have Infs'\n",
    "        \n",
    "        # Сheck for sorting by timeseries data\n",
    "        amount_of_unsorted_rows = len(self.train_data) - (self.train_data.date_block_num.diff().fillna(0) >= 0).sum()\n",
    "        if amount_of_unsorted_rows != 0:\n",
    "            print(f\"Data is not sorted by time ({amount_of_unsorted_rows} rows), it will be further sorted automatically\")\n",
    "            self.train_data = self.train_data.sort_values(by=['date_block_num'])\n",
    "            \n",
    "        # Split to X and y\n",
    "        self.X = self.train_data.drop(columns='item_cnt_month')\n",
    "        self.y = self.train_data[['item_id', 'shop_id', 'item_cnt_month']]\n",
    "        \n",
    "        # Validation process visualisation\n",
    "        split_history = {\n",
    "            'Step': [\"Step\"+str(i) for i in range(1, self.n_splits+1)],\n",
    "            'Train Data': [], \n",
    "            'Validation Data': []\n",
    "        }\n",
    "        for train, val in self.tscv.split(self.train_data[['item_id', 'shop_id', 'item_cnt_month']]):    \n",
    "            split_history['Train Data'].append(train.max()-train.min())\n",
    "            split_history['Validation Data'].append(val.max()-val.min())\n",
    "        df = pd.DataFrame(split_history)\n",
    "        print(df)\n",
    "        sns.set(style=\"whitegrid\")\n",
    "        plt.figure(figsize=(6, 5))\n",
    "        sns.barplot(x='Step', y='Train Data', data=df, color='skyblue', label='Train Data')\n",
    "        sns.barplot(x='Step', y='Validation Data', data=df, color='salmon', label='Validation Data', bottom=df['Train Data'])\n",
    "        plt.title('Distribution of data for training and validation')\n",
    "        plt.xlabel('Validation step')\n",
    "        plt.ylabel('Data quantity')\n",
    "        plt.legend(loc='upper right')\n",
    "        plt.tight_layout()\n",
    "        plt.show()\n",
    "    \n",
    "    def calculate_metrics(self, y_pred, y_true):\n",
    "        rmse = mse(y_true, y_pred, squared=True)\n",
    "        return rmse\n",
    "    \n",
    "    # Predict sales for target month (November 2015)\n",
    "    def predict_target(self, predictions_by_ID = True):\n",
    "        \"\"\"\n",
    "            Return target predictions in accordance with submission example\n",
    "        \"\"\"\n",
    "        X_train, y_train = self.train_data.drop(columns=['item_cnt_month']),\\\n",
    "                           self.train_data.item_cnt_month\n",
    "        X_test = self.test_data\n",
    "        \n",
    "        # train model\n",
    "        model = self.model\n",
    "        model.fit(X_train, y_train)\n",
    "        if predictions_by_ID:\n",
    "            result = X_test.join(pd.DataFrame(index=X_test.index, data=model.predict(X_test.values),\\\n",
    "                                           columns=['item_cnt_month']))\\\n",
    "                                                [['item_id', 'shop_id', 'item_cnt_month']].\\\n",
    "                                merge(self.submission_example, on=['shop_id', 'item_id'], how='right')\\\n",
    "                    .drop_duplicates(['item_id', 'shop_id'])[['ID', 'item_cnt_month']].sort_values(by='ID')\n",
    "            result.item_cnt_month = result.item_cnt_month.clip(0, 20).fillna(0) \n",
    "            return result\n",
    "        else:\n",
    "            return model.predict(X_val) \n",
    "    \n",
    "    def evaluate(self, predictions_by_ID = True):\n",
    "        \n",
    "        eval_report = {}\n",
    "        \n",
    "        # Evaluation loop\n",
    "        step = 0\n",
    "        for train, val in self.tscv.split(self.y):\n",
    "            \n",
    "            # Initialize steps and timer\n",
    "            step += 1\n",
    "            ts = time.time()\n",
    "\n",
    "            # Split data step\n",
    "            y_tr, y_val = self.y.iloc[train], self.y.iloc[val]\n",
    "            X_tr, X_val = self.X.iloc[train], self.X.iloc[val]\n",
    "\n",
    "            # Train step\n",
    "            rng = np.random.RandomState(42)\n",
    "            model = self.model\n",
    "            model.fit(X_tr, y_tr.item_cnt_month.values)\n",
    "\n",
    "            # Evaluation step\n",
    "            y_tr_pr = pd.DataFrame(index=X_tr.index, data=model.predict(X_tr.values), columns=['item_cnt_month'])\n",
    "            y_val_pr = pd.DataFrame(index=X_val.index, data=model.predict(X_val.values), columns=['item_cnt_month'])\n",
    "            \n",
    "            # Extract step (predictions by ID)\n",
    "            if predictions_by_ID:\n",
    "                nan_report = {}\n",
    "                y_tr = y_tr.merge(self.test_data, on=['shop_id', 'item_id'], how='right')\n",
    "                nan_report['y_train'] = f\"{y_tr.item_cnt_month.isna().sum() / y_tr.shape[0] * 100} %\"\n",
    "                y_tr = y_tr.fillna(0).drop_duplicates(subset=['shop_id', 'item_id'])\n",
    "                y_val = y_val.merge(self.test_data, on=['shop_id', 'item_id'], how='right')\n",
    "                nan_report['y_val'] = f\"{y_val.item_cnt_month.isna().sum() / y_val.shape[0] * 100} %\"\n",
    "                y_val = y_val.fillna(0)\n",
    "                y_tr_pr = X_tr.join(y_tr_pr)[['item_id', 'shop_id', 'item_cnt_month']].\\\n",
    "                                            merge(self.test_data, on=['shop_id', 'item_id'], how='right')\n",
    "                nan_report['y_train_pred'] = f\"{y_tr_pr.item_cnt_month.isna().sum() / y_tr_pr.shape[0] * 100} %\"\n",
    "                y_tr_pr = y_tr_pr.fillna(0).drop_duplicates(subset=['shop_id', 'item_id'])\n",
    "                y_val_pr = X_val.join(y_val_pr)[['item_id', 'shop_id', 'item_cnt_month']].\\\n",
    "                                            merge(self.test_data, on=['shop_id', 'item_id'], how='right')\n",
    "                nan_report['y_val_pred'] = f\"{y_val_pr.item_cnt_month.isna().sum() / y_val_pr.shape[0] * 100} %\"\n",
    "                y_val_pr = y_val_pr.fillna(0)\n",
    "            \n",
    "            # Calculate time required for step\n",
    "            time_info = time.time() - ts\n",
    "            \n",
    "            # Metrics calucaltion step\n",
    "            eval_report[\"step\"+str(step)] = {\n",
    "                \"Train/Validation limits\" : f\"TRAIN: from {train.min()} to  {train.max()}  (size: {train.max() - train.min()} ) \" +\n",
    "                                      f\"VALIDATION: from {val.min()} to  {val.max()}  (size: {val.max() - val.min()} )\",\n",
    "                \"Train/Validation error\" : [self.calculate_metrics(y_tr_pr.item_cnt_month, y_tr.item_cnt_month),\n",
    "                           self.calculate_metrics(y_val_pr.item_cnt_month, y_val.item_cnt_month)],\n",
    "                \"Nan_report\" : nan_report,\n",
    "                \"Time for step\" : f\"{time_info} s\",\n",
    "                \"__________________\" : \"_________________________________________________________________________________\"\n",
    "            }\n",
    "            \n",
    "        return eval_report     "
   ]
  },
  {
   "cell_type": "code",
   "execution_count": 10,
   "id": "b05fb74b",
   "metadata": {},
   "outputs": [
    {
     "name": "stdout",
     "output_type": "stream",
     "text": [
      "Data is not sorted by time (18781 rows), it will be further sorted automatically\n",
      "    Step  Train Data  Validation Data\n",
      "0  Step1     1817153          1817153\n",
      "1  Step2     3634307          1817153\n",
      "2  Step3     5451461          1817153\n",
      "3  Step4     7268615          1817153\n",
      "4  Step5     9085769          1817153\n"
     ]
    },
    {
     "data": {
      "image/png": "[encoded data removed]",
      "text/plain": [
       "<Figure size 600x500 with 1 Axes>"
      ]
     },
     "metadata": {},
     "output_type": "display_data"
    },
    {
     "name": "stdout",
     "output_type": "stream",
     "text": [
      "CPU times: total: 3.62 s\n",
      "Wall time: 4.18 s\n"
     ]
    }
   ],
   "source": [
    "%%time\n",
    "test_validation_class = Validation(\n",
    "                 train_data=data['train_data'],\n",
    "                 test_data=data['test_data'],\n",
    "                 submission_example=data['submission_example'],\n",
    "                 n_splits=5,\n",
    "                 model = DecisionTreeRegressor(max_depth=2, random_state=42),\n",
    "                 check_nans=False\n",
    "                )"
   ]
  },
  {
   "cell_type": "code",
   "execution_count": 11,
   "id": "256e7524",
   "metadata": {},
   "outputs": [
    {
     "name": "stdout",
     "output_type": "stream",
     "text": [
      "CPU times: total: 1min 29s\n",
      "Wall time: 1min 43s\n"
     ]
    },
    {
     "data": {
      "text/plain": [
       "{'step1': {'Train/Validation limits': 'TRAIN: from 0 to  1817153  (size: 1817153 ) VALIDATION: from 1817154 to  3634307  (size: 1817153 )',\n",
       "  'Train/Validation error': [3.949940635528056, 16.686743188026803],\n",
       "  'Nan_report': {'y_train': '46.340786755725766 %',\n",
       "   'y_val': '39.757940062677726 %',\n",
       "   'y_train_pred': '46.340786755725766 %',\n",
       "   'y_val_pred': '39.757940062677726 %'},\n",
       "  'Time for step': '10.32190990447998 s',\n",
       "  '__________________': '_________________________________________________________________________________'},\n",
       " 'step2': {'Train/Validation limits': 'TRAIN: from 0 to  3634307  (size: 3634307 ) VALIDATION: from 3634308 to  5451461  (size: 1817153 )',\n",
       "  'Train/Validation error': [6.926649391667358, 7.623256580053565],\n",
       "  'Nan_report': {'y_train': '26.396510219643844 %',\n",
       "   'y_val': '29.74695447343304 %',\n",
       "   'y_train_pred': '26.396510219643844 %',\n",
       "   'y_val_pred': '29.74695447343304 %'},\n",
       "  'Time for step': '10.984583139419556 s',\n",
       "  '__________________': '_________________________________________________________________________________'},\n",
       " 'step3': {'Train/Validation limits': 'TRAIN: from 0 to  5451461  (size: 5451461 ) VALIDATION: from 5451462 to  7268615  (size: 1817153 )',\n",
       "  'Train/Validation error': [9.77128995733421, 5.093961591405423],\n",
       "  'Nan_report': {'y_train': '15.199466212865984 %',\n",
       "   'y_val': '19.427976595876416 %',\n",
       "   'y_train_pred': '15.199466212865984 %',\n",
       "   'y_val_pred': '19.427976595876416 %'},\n",
       "  'Time for step': '22.52221918106079 s',\n",
       "  '__________________': '_________________________________________________________________________________'},\n",
       " 'step4': {'Train/Validation limits': 'TRAIN: from 0 to  7268615  (size: 7268615 ) VALIDATION: from 7268616 to  9085769  (size: 1817153 )',\n",
       "  'Train/Validation error': [11.615972193061332, 7.762032866478272],\n",
       "  'Nan_report': {'y_train': '8.002023980855132 %',\n",
       "   'y_val': '9.19804482306414 %',\n",
       "   'y_train_pred': '8.002023980855132 %',\n",
       "   'y_val_pred': '9.19804482306414 %'},\n",
       "  'Time for step': '26.65151071548462 s',\n",
       "  '__________________': '_________________________________________________________________________________'},\n",
       " 'step5': {'Train/Validation limits': 'TRAIN: from 0 to  9085769  (size: 9085769 ) VALIDATION: from 9085770 to  10902923  (size: 1817153 )',\n",
       "  'Train/Validation error': [15.936352506820564, 4.181004178502333],\n",
       "  'Nan_report': {'y_train': '3.1371376011484298 %',\n",
       "   'y_val': '0.6518150957692959 %',\n",
       "   'y_train_pred': '3.1371376011484298 %',\n",
       "   'y_val_pred': '0.6518150957692959 %'},\n",
       "  'Time for step': '32.5655996799469 s',\n",
       "  '__________________': '_________________________________________________________________________________'}}"
      ]
     },
     "execution_count": 11,
     "metadata": {},
     "output_type": "execute_result"
    }
   ],
   "source": [
    "%%time\n",
    "test_validation_class.evaluate()"
   ]
  },
  {
   "cell_type": "code",
   "execution_count": 12,
   "id": "a944480d",
   "metadata": {},
   "outputs": [
    {
     "name": "stdout",
     "output_type": "stream",
     "text": [
      "CPU times: total: 26.8 s\n",
      "Wall time: 29.8 s\n"
     ]
    },
    {
     "data": {
      "text/html": [
       "<div>\n",
       "<style scoped>\n",
       "    .dataframe tbody tr th:only-of-type {\n",
       "        vertical-align: middle;\n",
       "    }\n",
       "\n",
       "    .dataframe tbody tr th {\n",
       "        vertical-align: top;\n",
       "    }\n",
       "\n",
       "    .dataframe thead th {\n",
       "        text-align: right;\n",
       "    }\n",
       "</style>\n",
       "<table border=\"1\" class=\"dataframe\">\n",
       "  <thead>\n",
       "    <tr style=\"text-align: right;\">\n",
       "      <th></th>\n",
       "      <th>ID</th>\n",
       "      <th>item_cnt_month</th>\n",
       "    </tr>\n",
       "  </thead>\n",
       "  <tbody>\n",
       "    <tr>\n",
       "      <th>0</th>\n",
       "      <td>0</td>\n",
       "      <td>0.31</td>\n",
       "    </tr>\n",
       "    <tr>\n",
       "      <th>1</th>\n",
       "      <td>1</td>\n",
       "      <td>0.00</td>\n",
       "    </tr>\n",
       "    <tr>\n",
       "      <th>2</th>\n",
       "      <td>2</td>\n",
       "      <td>0.31</td>\n",
       "    </tr>\n",
       "    <tr>\n",
       "      <th>3</th>\n",
       "      <td>3</td>\n",
       "      <td>0.31</td>\n",
       "    </tr>\n",
       "    <tr>\n",
       "      <th>4</th>\n",
       "      <td>4</td>\n",
       "      <td>0.00</td>\n",
       "    </tr>\n",
       "    <tr>\n",
       "      <th>...</th>\n",
       "      <td>...</td>\n",
       "      <td>...</td>\n",
       "    </tr>\n",
       "    <tr>\n",
       "      <th>214195</th>\n",
       "      <td>214195</td>\n",
       "      <td>0.31</td>\n",
       "    </tr>\n",
       "    <tr>\n",
       "      <th>214196</th>\n",
       "      <td>214196</td>\n",
       "      <td>0.31</td>\n",
       "    </tr>\n",
       "    <tr>\n",
       "      <th>214197</th>\n",
       "      <td>214197</td>\n",
       "      <td>0.31</td>\n",
       "    </tr>\n",
       "    <tr>\n",
       "      <th>214198</th>\n",
       "      <td>214198</td>\n",
       "      <td>0.31</td>\n",
       "    </tr>\n",
       "    <tr>\n",
       "      <th>214199</th>\n",
       "      <td>214199</td>\n",
       "      <td>0.31</td>\n",
       "    </tr>\n",
       "  </tbody>\n",
       "</table>\n",
       "<p>214200 rows × 2 columns</p>\n",
       "</div>"
      ],
      "text/plain": [
       "            ID  item_cnt_month\n",
       "0            0            0.31\n",
       "1            1            0.00\n",
       "2            2            0.31\n",
       "3            3            0.31\n",
       "4            4            0.00\n",
       "...        ...             ...\n",
       "214195  214195            0.31\n",
       "214196  214196            0.31\n",
       "214197  214197            0.31\n",
       "214198  214198            0.31\n",
       "214199  214199            0.31\n",
       "\n",
       "[214200 rows x 2 columns]"
      ]
     },
     "execution_count": 12,
     "metadata": {},
     "output_type": "execute_result"
    }
   ],
   "source": [
    "%%time\n",
    "test_validation_class.predict_target()"
   ]
  },
  {
   "cell_type": "markdown",
   "id": "327ce930",
   "metadata": {},
   "source": [
    "### Learn models"
   ]
  },
  {
   "cell_type": "markdown",
   "id": "19c114d9",
   "metadata": {},
   "source": [
    "##### Linear Regression"
   ]
  },
  {
   "cell_type": "code",
   "execution_count": 13,
   "id": "13101e4c",
   "metadata": {},
   "outputs": [
    {
     "name": "stdout",
     "output_type": "stream",
     "text": [
      "Data is not sorted by time (5616 rows), it will be further sorted automatically\n",
      "    Step  Train Data  Validation Data\n",
      "0  Step1      364794           364792\n",
      "1  Step2      729587           364792\n",
      "2  Step3     1094380           364792\n",
      "3  Step4     1459173           364792\n",
      "4  Step5     1823966           364792\n"
     ]
    },
    {
     "data": {
      "image/png": "[encoded data removed]",
      "text/plain": [
       "<Figure size 600x500 with 1 Axes>"
      ]
     },
     "metadata": {},
     "output_type": "display_data"
    },
    {
     "name": "stdout",
     "output_type": "stream",
     "text": [
      "CPU times: total: 2.48 s\n",
      "Wall time: 3.97 s\n"
     ]
    }
   ],
   "source": [
    "%%time\n",
    "linear_regression = Validation(\n",
    "                                 train_data=data['train_data'],\n",
    "                                 test_data=data['test_data'],\n",
    "                                 submission_example=data['submission_example'],\n",
    "                                 n_splits=5,\n",
    "                                 model = Ridge(alpha=0.1),\n",
    "                                 check_nans=True,\n",
    "                                 dropna = True\n",
    "                           )"
   ]
  },
  {
   "cell_type": "code",
   "execution_count": 14,
   "id": "5d664dba",
   "metadata": {},
   "outputs": [],
   "source": [
    "linear_regression_report = linear_regression.evaluate()"
   ]
  },
  {
   "cell_type": "markdown",
   "id": "ce86fda6",
   "metadata": {},
   "source": [
    "##### Random Forest Regressor"
   ]
  },
  {
   "cell_type": "code",
   "execution_count": 15,
   "id": "49ea5215",
   "metadata": {},
   "outputs": [
    {
     "name": "stdout",
     "output_type": "stream",
     "text": [
      "Data is not sorted by time (5616 rows), it will be further sorted automatically\n",
      "    Step  Train Data  Validation Data\n",
      "0  Step1      364794           364792\n",
      "1  Step2      729587           364792\n",
      "2  Step3     1094380           364792\n",
      "3  Step4     1459173           364792\n",
      "4  Step5     1823966           364792\n"
     ]
    },
    {
     "data": {
      "image/png": "[encoded data removed]",
      "text/plain": [
       "<Figure size 600x500 with 1 Axes>"
      ]
     },
     "metadata": {},
     "output_type": "display_data"
    },
    {
     "name": "stdout",
     "output_type": "stream",
     "text": [
      "CPU times: total: 1.41 s\n",
      "Wall time: 1.81 s\n"
     ]
    }
   ],
   "source": [
    "%%time\n",
    "random_forest_regression = Validation(\n",
    "                                 train_data=data['train_data'],\n",
    "                                 test_data=data['test_data'],\n",
    "                                 submission_example=data['submission_example'],\n",
    "                                 n_splits=5,\n",
    "                                 model = RandomForestRegressor(max_depth=4, n_estimators=25, random_state=42, n_jobs=-1),\n",
    "                                 check_nans=True,\n",
    "                                 dropna = True\n",
    "                           )"
   ]
  },
  {
   "cell_type": "code",
   "execution_count": 16,
   "id": "a4375f77",
   "metadata": {},
   "outputs": [
    {
     "name": "stdout",
     "output_type": "stream",
     "text": [
      "CPU times: total: 12min 47s\n",
      "Wall time: 1min 29s\n"
     ]
    },
    {
     "data": {
      "text/plain": [
       "{'step1': {'Train/Validation limits': 'TRAIN: from 0 to  364794  (size: 364794 ) VALIDATION: from 364795 to  729587  (size: 364792 )',\n",
       "  'Train/Validation error': [0.38732321389351543, 11.78444362181632],\n",
       "  'Nan_report': {'y_train': '44.90940654087392 %',\n",
       "   'y_val': '37.53783357079595 %',\n",
       "   'y_train_pred': '44.90940654087392 %',\n",
       "   'y_val_pred': '37.53783357079595 %'},\n",
       "  'Time for step': '4.06545352935791 s',\n",
       "  '__________________': '_________________________________________________________________________________'},\n",
       " 'step2': {'Train/Validation limits': 'TRAIN: from 0 to  729587  (size: 729587 ) VALIDATION: from 729588 to  1094380  (size: 364792 )',\n",
       "  'Train/Validation error': [0.7992210261625101, 2.649014122351398],\n",
       "  'Nan_report': {'y_train': '24.961637094718665 %',\n",
       "   'y_val': '31.311811905206195 %',\n",
       "   'y_train_pred': '24.961637094718665 %',\n",
       "   'y_val_pred': '31.311811905206195 %'},\n",
       "  'Time for step': '9.620944023132324 s',\n",
       "  '__________________': '_________________________________________________________________________________'},\n",
       " 'step3': {'Train/Validation limits': 'TRAIN: from 0 to  1094380  (size: 1094380 ) VALIDATION: from 1094381 to  1459173  (size: 364792 )',\n",
       "  'Train/Validation error': [0.938228674303319, 3.9385050699752013],\n",
       "  'Nan_report': {'y_train': '15.220655518772766 %',\n",
       "   'y_val': '22.739794955657587 %',\n",
       "   'y_train_pred': '15.220655518772766 %',\n",
       "   'y_val_pred': '22.739794955657587 %'},\n",
       "  'Time for step': '17.75863265991211 s',\n",
       "  '__________________': '_________________________________________________________________________________'},\n",
       " 'step4': {'Train/Validation limits': 'TRAIN: from 0 to  1459173  (size: 1459173 ) VALIDATION: from 1459174 to  1823966  (size: 364792 )',\n",
       "  'Train/Validation error': [1.0911043937656888, 6.4359579613502715],\n",
       "  'Nan_report': {'y_train': '8.85960835541934 %',\n",
       "   'y_val': '13.61188183450302 %',\n",
       "   'y_train_pred': '8.85960835541934 %',\n",
       "   'y_val_pred': '13.61188183450302 %'},\n",
       "  'Time for step': '25.56375288963318 s',\n",
       "  '__________________': '_________________________________________________________________________________'},\n",
       " 'step5': {'Train/Validation limits': 'TRAIN: from 0 to  1823966  (size: 1823966 ) VALIDATION: from 1823967 to  2188759  (size: 364792 )',\n",
       "  'Train/Validation error': [1.2878335048830247, 1.2624236378392029],\n",
       "  'Nan_report': {'y_train': '4.40403226684375 %',\n",
       "   'y_val': '3.2955911435107987 %',\n",
       "   'y_train_pred': '4.40403226684375 %',\n",
       "   'y_val_pred': '3.2955911435107987 %'},\n",
       "  'Time for step': '32.790974140167236 s',\n",
       "  '__________________': '_________________________________________________________________________________'}}"
      ]
     },
     "execution_count": 16,
     "metadata": {},
     "output_type": "execute_result"
    }
   ],
   "source": [
    "%%time\n",
    "random_forest_report = random_forest_regression.evaluate()\n",
    "random_forest_report"
   ]
  },
  {
   "cell_type": "code",
   "execution_count": 17,
   "id": "081898d3",
   "metadata": {},
   "outputs": [
    {
     "name": "stdout",
     "output_type": "stream",
     "text": [
      "CPU times: total: 5min 57s\n",
      "Wall time: 36.3 s\n"
     ]
    }
   ],
   "source": [
    "%%time\n",
    "RandomForest_regression_submission = random_forest_regression.predict_target()"
   ]
  },
  {
   "cell_type": "markdown",
   "id": "f59d6173",
   "metadata": {},
   "source": [
    "##### XGboost"
   ]
  },
  {
   "cell_type": "code",
   "execution_count": 18,
   "id": "05e069f9",
   "metadata": {},
   "outputs": [
    {
     "name": "stdout",
     "output_type": "stream",
     "text": [
      "Data is not sorted by time (18781 rows), it will be further sorted automatically\n",
      "    Step  Train Data  Validation Data\n",
      "0  Step1     1817153          1817153\n",
      "1  Step2     3634307          1817153\n",
      "2  Step3     5451461          1817153\n",
      "3  Step4     7268615          1817153\n",
      "4  Step5     9085769          1817153\n"
     ]
    },
    {
     "data": {
      "image/png": "[encoded data removed]",
      "text/plain": [
       "<Figure size 600x500 with 1 Axes>"
      ]
     },
     "metadata": {},
     "output_type": "display_data"
    },
    {
     "name": "stdout",
     "output_type": "stream",
     "text": [
      "CPU times: total: 4.02 s\n",
      "Wall time: 4.96 s\n"
     ]
    }
   ],
   "source": [
    "%%time\n",
    "XGB_regression = Validation(\n",
    "                     train_data=data['train_data'],\n",
    "                     test_data=data['test_data'],\n",
    "                     submission_example=data['submission_example'],\n",
    "                     n_splits=5,\n",
    "                     model = XGBRegressor(),\n",
    "                     check_nans=False,\n",
    "                     dropna = False\n",
    "                 ) "
   ]
  },
  {
   "cell_type": "code",
   "execution_count": 19,
   "id": "8fad44de",
   "metadata": {},
   "outputs": [
    {
     "name": "stdout",
     "output_type": "stream",
     "text": [
      "CPU times: total: 19min 46s\n",
      "Wall time: 2min 47s\n"
     ]
    },
    {
     "data": {
      "text/plain": [
       "{'step1': {'Train/Validation limits': 'TRAIN: from 0 to  1817153  (size: 1817153 ) VALIDATION: from 1817154 to  3634307  (size: 1817153 )',\n",
       "  'Train/Validation error': [2.263853868984617, 8.099914762319932],\n",
       "  'Nan_report': {'y_train': '46.340786755725766 %',\n",
       "   'y_val': '39.757940062677726 %',\n",
       "   'y_train_pred': '46.340786755725766 %',\n",
       "   'y_val_pred': '39.757940062677726 %'},\n",
       "  'Time for step': '13.156104803085327 s',\n",
       "  '__________________': '_________________________________________________________________________________'},\n",
       " 'step2': {'Train/Validation limits': 'TRAIN: from 0 to  3634307  (size: 3634307 ) VALIDATION: from 3634308 to  5451461  (size: 1817153 )',\n",
       "  'Train/Validation error': [4.17155317981123, 5.228557775228023],\n",
       "  'Nan_report': {'y_train': '26.396510219643844 %',\n",
       "   'y_val': '29.74695447343304 %',\n",
       "   'y_train_pred': '26.396510219643844 %',\n",
       "   'y_val_pred': '29.74695447343304 %'},\n",
       "  'Time for step': '21.62836742401123 s',\n",
       "  '__________________': '_________________________________________________________________________________'},\n",
       " 'step3': {'Train/Validation limits': 'TRAIN: from 0 to  5451461  (size: 5451461 ) VALIDATION: from 5451462 to  7268615  (size: 1817153 )',\n",
       "  'Train/Validation error': [6.665331686026287, 3.608964541972216],\n",
       "  'Nan_report': {'y_train': '15.199466212865984 %',\n",
       "   'y_val': '19.427976595876416 %',\n",
       "   'y_train_pred': '15.199466212865984 %',\n",
       "   'y_val_pred': '19.427976595876416 %'},\n",
       "  'Time for step': '30.236427307128906 s',\n",
       "  '__________________': '_________________________________________________________________________________'},\n",
       " 'step4': {'Train/Validation limits': 'TRAIN: from 0 to  7268615  (size: 7268615 ) VALIDATION: from 7268616 to  9085769  (size: 1817153 )',\n",
       "  'Train/Validation error': [7.740009525864921, 4.714392486626483],\n",
       "  'Nan_report': {'y_train': '8.002023980855132 %',\n",
       "   'y_val': '9.19804482306414 %',\n",
       "   'y_train_pred': '8.002023980855132 %',\n",
       "   'y_val_pred': '9.19804482306414 %'},\n",
       "  'Time for step': '48.000967025756836 s',\n",
       "  '__________________': '_________________________________________________________________________________'},\n",
       " 'step5': {'Train/Validation limits': 'TRAIN: from 0 to  9085769  (size: 9085769 ) VALIDATION: from 9085770 to  10902923  (size: 1817153 )',\n",
       "  'Train/Validation error': [11.172774587188606, 2.6757232803232114],\n",
       "  'Nan_report': {'y_train': '3.1371376011484298 %',\n",
       "   'y_val': '0.6518150957692959 %',\n",
       "   'y_train_pred': '3.1371376011484298 %',\n",
       "   'y_val_pred': '0.6518150957692959 %'},\n",
       "  'Time for step': '54.337661266326904 s',\n",
       "  '__________________': '_________________________________________________________________________________'}}"
      ]
     },
     "execution_count": 19,
     "metadata": {},
     "output_type": "execute_result"
    }
   ],
   "source": [
    "%%time\n",
    "XGB_report = XGB_regression.evaluate()\n",
    "XGB_report"
   ]
  },
  {
   "cell_type": "code",
   "execution_count": 20,
   "id": "dd439358",
   "metadata": {},
   "outputs": [
    {
     "name": "stdout",
     "output_type": "stream",
     "text": [
      "CPU times: total: 7min 24s\n",
      "Wall time: 53.4 s\n"
     ]
    }
   ],
   "source": [
    "%%time\n",
    "XGB_regression_submission = XGB_regression.predict_target()"
   ]
  },
  {
   "cell_type": "markdown",
   "id": "a7f67ca3",
   "metadata": {},
   "source": [
    "##### LightGBM"
   ]
  },
  {
   "cell_type": "code",
   "execution_count": 21,
   "id": "34615b9f",
   "metadata": {},
   "outputs": [
    {
     "name": "stdout",
     "output_type": "stream",
     "text": [
      "Data is not sorted by time (18781 rows), it will be further sorted automatically\n",
      "    Step  Train Data  Validation Data\n",
      "0  Step1     1817153          1817153\n",
      "1  Step2     3634307          1817153\n",
      "2  Step3     5451461          1817153\n",
      "3  Step4     7268615          1817153\n",
      "4  Step5     9085769          1817153\n"
     ]
    },
    {
     "data": {
      "image/png": "[encoded data removed]",
      "text/plain": [
       "<Figure size 600x500 with 1 Axes>"
      ]
     },
     "metadata": {},
     "output_type": "display_data"
    },
    {
     "name": "stdout",
     "output_type": "stream",
     "text": [
      "CPU times: total: 6.64 s\n",
      "Wall time: 16 s\n"
     ]
    }
   ],
   "source": [
    "%%time\n",
    "\n",
    "LightGBM_regression = Validation(\n",
    "                     train_data=data['train_data'],\n",
    "                     test_data=data['test_data'],\n",
    "                     submission_example=data['submission_example'],\n",
    "                     n_splits=5,\n",
    "                     model = lgb.LGBMRegressor(),\n",
    "                     check_nans=False,\n",
    "                     dropna = False\n",
    "                 ) "
   ]
  },
  {
   "cell_type": "code",
   "execution_count": 22,
   "id": "63025719",
   "metadata": {},
   "outputs": [
    {
     "name": "stdout",
     "output_type": "stream",
     "text": [
      "[LightGBM] [Info] Auto-choosing row-wise multi-threading, the overhead of testing was 0.087065 seconds.\n",
      "You can set `force_row_wise=true` to remove the overhead.\n",
      "And if memory is not enough, you can set `force_col_wise=true`.\n",
      "[LightGBM] [Info] Total Bins 2733\n",
      "[LightGBM] [Info] Number of data points in the train set: 1817154, number of used features: 30\n",
      "[LightGBM] [Info] Start training from score 0.330936\n",
      "[LightGBM] [Info] Auto-choosing row-wise multi-threading, the overhead of testing was 0.215112 seconds.\n",
      "You can set `force_row_wise=true` to remove the overhead.\n",
      "And if memory is not enough, you can set `force_col_wise=true`.\n",
      "[LightGBM] [Info] Total Bins 3313\n",
      "[LightGBM] [Info] Number of data points in the train set: 3634308, number of used features: 30\n",
      "[LightGBM] [Info] Start training from score 0.329261\n",
      "[LightGBM] [Info] Auto-choosing row-wise multi-threading, the overhead of testing was 0.291931 seconds.\n",
      "You can set `force_row_wise=true` to remove the overhead.\n",
      "And if memory is not enough, you can set `force_col_wise=true`.\n",
      "[LightGBM] [Info] Total Bins 3427\n",
      "[LightGBM] [Info] Number of data points in the train set: 5451462, number of used features: 32\n",
      "[LightGBM] [Info] Start training from score 0.338989\n",
      "[LightGBM] [Info] Auto-choosing row-wise multi-threading, the overhead of testing was 0.289253 seconds.\n",
      "You can set `force_row_wise=true` to remove the overhead.\n",
      "And if memory is not enough, you can set `force_col_wise=true`.\n",
      "[LightGBM] [Info] Total Bins 3521\n",
      "[LightGBM] [Info] Number of data points in the train set: 7268616, number of used features: 32\n",
      "[LightGBM] [Info] Start training from score 0.325466\n",
      "[LightGBM] [Info] Auto-choosing row-wise multi-threading, the overhead of testing was 0.515415 seconds.\n",
      "You can set `force_row_wise=true` to remove the overhead.\n",
      "And if memory is not enough, you can set `force_col_wise=true`.\n",
      "[LightGBM] [Info] Total Bins 3591\n",
      "[LightGBM] [Info] Number of data points in the train set: 9085770, number of used features: 32\n",
      "[LightGBM] [Info] Start training from score 0.330977\n",
      "CPU times: total: 8min 7s\n",
      "Wall time: 2min 17s\n"
     ]
    },
    {
     "data": {
      "text/plain": [
       "{'step1': {'Train/Validation limits': 'TRAIN: from 0 to  1817153  (size: 1817153 ) VALIDATION: from 1817154 to  3634307  (size: 1817153 )',\n",
       "  'Train/Validation error': [2.070722263042826, 8.63634500188383],\n",
       "  'Nan_report': {'y_train': '46.340786755725766 %',\n",
       "   'y_val': '39.757940062677726 %',\n",
       "   'y_train_pred': '46.340786755725766 %',\n",
       "   'y_val_pred': '39.757940062677726 %'},\n",
       "  'Time for step': '15.079569578170776 s',\n",
       "  '__________________': '_________________________________________________________________________________'},\n",
       " 'step2': {'Train/Validation limits': 'TRAIN: from 0 to  3634307  (size: 3634307 ) VALIDATION: from 3634308 to  5451461  (size: 1817153 )',\n",
       "  'Train/Validation error': [4.3285185326141535, 5.000410818776253],\n",
       "  'Nan_report': {'y_train': '26.396510219643844 %',\n",
       "   'y_val': '29.74695447343304 %',\n",
       "   'y_train_pred': '26.396510219643844 %',\n",
       "   'y_val_pred': '29.74695447343304 %'},\n",
       "  'Time for step': '19.159780502319336 s',\n",
       "  '__________________': '_________________________________________________________________________________'},\n",
       " 'step3': {'Train/Validation limits': 'TRAIN: from 0 to  5451461  (size: 5451461 ) VALIDATION: from 5451462 to  7268615  (size: 1817153 )',\n",
       "  'Train/Validation error': [6.624633043750255, 3.2668766660232382],\n",
       "  'Nan_report': {'y_train': '15.199466212865984 %',\n",
       "   'y_val': '19.427976595876416 %',\n",
       "   'y_train_pred': '15.199466212865984 %',\n",
       "   'y_val_pred': '19.427976595876416 %'},\n",
       "  'Time for step': '26.023070335388184 s',\n",
       "  '__________________': '_________________________________________________________________________________'},\n",
       " 'step4': {'Train/Validation limits': 'TRAIN: from 0 to  7268615  (size: 7268615 ) VALIDATION: from 7268616 to  9085769  (size: 1817153 )',\n",
       "  'Train/Validation error': [8.5869223728457, 4.086077426992121],\n",
       "  'Nan_report': {'y_train': '8.002023980855132 %',\n",
       "   'y_val': '9.19804482306414 %',\n",
       "   'y_train_pred': '8.002023980855132 %',\n",
       "   'y_val_pred': '9.19804482306414 %'},\n",
       "  'Time for step': '35.38905596733093 s',\n",
       "  '__________________': '_________________________________________________________________________________'},\n",
       " 'step5': {'Train/Validation limits': 'TRAIN: from 0 to  9085769  (size: 9085769 ) VALIDATION: from 9085770 to  10902923  (size: 1817153 )',\n",
       "  'Train/Validation error': [11.432772392029948, 2.4901558091264326],\n",
       "  'Nan_report': {'y_train': '3.1371376011484298 %',\n",
       "   'y_val': '0.6518150957692959 %',\n",
       "   'y_train_pred': '3.1371376011484298 %',\n",
       "   'y_val_pred': '0.6518150957692959 %'},\n",
       "  'Time for step': '41.36364412307739 s',\n",
       "  '__________________': '_________________________________________________________________________________'}}"
      ]
     },
     "execution_count": 22,
     "metadata": {},
     "output_type": "execute_result"
    }
   ],
   "source": [
    "%%time\n",
    "LightGBM_report = LightGBM_regression.evaluate()\n",
    "LightGBM_report"
   ]
  },
  {
   "cell_type": "code",
   "execution_count": 23,
   "id": "d9e170db",
   "metadata": {},
   "outputs": [
    {
     "name": "stdout",
     "output_type": "stream",
     "text": [
      "[LightGBM] [Info] Auto-choosing row-wise multi-threading, the overhead of testing was 0.572630 seconds.\n",
      "You can set `force_row_wise=true` to remove the overhead.\n",
      "And if memory is not enough, you can set `force_col_wise=true`.\n",
      "[LightGBM] [Info] Total Bins 3677\n",
      "[LightGBM] [Info] Number of data points in the train set: 10902924, number of used features: 32\n",
      "[LightGBM] [Info] Start training from score 0.322979\n",
      "CPU times: total: 2min 13s\n",
      "Wall time: 36.1 s\n"
     ]
    }
   ],
   "source": [
    "%%time\n",
    "LightGBM_regression_submission = LightGBM_regression.predict_target()"
   ]
  },
  {
   "cell_type": "markdown",
   "id": "4ae298eb",
   "metadata": {},
   "source": [
    "##### Catboost"
   ]
  },
  {
   "cell_type": "code",
   "execution_count": 24,
   "id": "0ad8597c",
   "metadata": {},
   "outputs": [
    {
     "name": "stdout",
     "output_type": "stream",
     "text": [
      "Data is not sorted by time (18781 rows), it will be further sorted automatically\n",
      "    Step  Train Data  Validation Data\n",
      "0  Step1     1817153          1817153\n",
      "1  Step2     3634307          1817153\n",
      "2  Step3     5451461          1817153\n",
      "3  Step4     7268615          1817153\n",
      "4  Step5     9085769          1817153\n"
     ]
    },
    {
     "data": {
      "image/png": "[encoded data removed]",
      "text/plain": [
       "<Figure size 600x500 with 1 Axes>"
      ]
     },
     "metadata": {},
     "output_type": "display_data"
    },
    {
     "name": "stdout",
     "output_type": "stream",
     "text": [
      "CPU times: total: 4.38 s\n",
      "Wall time: 7 s\n"
     ]
    }
   ],
   "source": [
    "%%time\n",
    "catboost_regression = Validation(\n",
    "                 train_data=data['train_data'],\n",
    "                 test_data=data['test_data'],\n",
    "                 submission_example=data['submission_example'],\n",
    "                 n_splits=5,\n",
    "                 model = cb.CatBoostRegressor(),\n",
    "                 check_nans=False,\n",
    "                 dropna = False\n",
    "                )"
   ]
  },
  {
   "cell_type": "code",
   "execution_count": 61,
   "id": "802a033f",
   "metadata": {},
   "outputs": [],
   "source": [
    "CatBoost_report = catboost_regression.evaluate()\n",
    "CatBoost_report"
   ]
  },
  {
   "cell_type": "code",
   "execution_count": 62,
   "id": "798d6cc5",
   "metadata": {},
   "outputs": [],
   "source": [
    "%%time\n",
    "CatBoost_regression_submission = catboost_regression.predict_target()"
   ]
  },
  {
   "cell_type": "markdown",
   "id": "b9807340",
   "metadata": {},
   "source": [
    "### Сomparison of models based on validation results"
   ]
  },
  {
   "cell_type": "code",
   "execution_count": 51,
   "id": "c649a1fc",
   "metadata": {},
   "outputs": [
    {
     "data": {
      "text/html": [
       "<div>\n",
       "<style scoped>\n",
       "    .dataframe tbody tr th:only-of-type {\n",
       "        vertical-align: middle;\n",
       "    }\n",
       "\n",
       "    .dataframe tbody tr th {\n",
       "        vertical-align: top;\n",
       "    }\n",
       "\n",
       "    .dataframe thead th {\n",
       "        text-align: right;\n",
       "    }\n",
       "</style>\n",
       "<table border=\"1\" class=\"dataframe\">\n",
       "  <thead>\n",
       "    <tr style=\"text-align: right;\">\n",
       "      <th></th>\n",
       "      <th></th>\n",
       "      <th>RandomForest</th>\n",
       "      <th>XGB</th>\n",
       "      <th>LightGBM</th>\n",
       "      <th>CatBoost</th>\n",
       "    </tr>\n",
       "    <tr>\n",
       "      <th>Steps</th>\n",
       "      <th>Score</th>\n",
       "      <th></th>\n",
       "      <th></th>\n",
       "      <th></th>\n",
       "      <th></th>\n",
       "    </tr>\n",
       "  </thead>\n",
       "  <tbody>\n",
       "    <tr>\n",
       "      <th rowspan=\"2\" valign=\"top\">step 1</th>\n",
       "      <th>train_score</th>\n",
       "      <td>0.39</td>\n",
       "      <td>2.26</td>\n",
       "      <td>2.07</td>\n",
       "      <td>2.17</td>\n",
       "    </tr>\n",
       "    <tr>\n",
       "      <th>validation_score</th>\n",
       "      <td>11.78</td>\n",
       "      <td>8.10</td>\n",
       "      <td>8.64</td>\n",
       "      <td>6.87</td>\n",
       "    </tr>\n",
       "    <tr>\n",
       "      <th rowspan=\"2\" valign=\"top\">step 2</th>\n",
       "      <th>train_score</th>\n",
       "      <td>0.80</td>\n",
       "      <td>4.17</td>\n",
       "      <td>4.33</td>\n",
       "      <td>4.03</td>\n",
       "    </tr>\n",
       "    <tr>\n",
       "      <th>validation_score</th>\n",
       "      <td>2.65</td>\n",
       "      <td>5.23</td>\n",
       "      <td>5.00</td>\n",
       "      <td>4.67</td>\n",
       "    </tr>\n",
       "    <tr>\n",
       "      <th rowspan=\"2\" valign=\"top\">step 3</th>\n",
       "      <th>train_score</th>\n",
       "      <td>0.94</td>\n",
       "      <td>6.67</td>\n",
       "      <td>6.62</td>\n",
       "      <td>5.85</td>\n",
       "    </tr>\n",
       "    <tr>\n",
       "      <th>validation_score</th>\n",
       "      <td>3.94</td>\n",
       "      <td>3.61</td>\n",
       "      <td>3.27</td>\n",
       "      <td>3.35</td>\n",
       "    </tr>\n",
       "    <tr>\n",
       "      <th rowspan=\"2\" valign=\"top\">step 4</th>\n",
       "      <th>train_score</th>\n",
       "      <td>1.09</td>\n",
       "      <td>7.74</td>\n",
       "      <td>8.59</td>\n",
       "      <td>7.48</td>\n",
       "    </tr>\n",
       "    <tr>\n",
       "      <th>validation_score</th>\n",
       "      <td>6.44</td>\n",
       "      <td>4.71</td>\n",
       "      <td>4.09</td>\n",
       "      <td>4.35</td>\n",
       "    </tr>\n",
       "    <tr>\n",
       "      <th rowspan=\"2\" valign=\"top\">step 5</th>\n",
       "      <th>train_score</th>\n",
       "      <td>1.29</td>\n",
       "      <td>11.17</td>\n",
       "      <td>11.43</td>\n",
       "      <td>10.34</td>\n",
       "    </tr>\n",
       "    <tr>\n",
       "      <th>validation_score</th>\n",
       "      <td>1.26</td>\n",
       "      <td>2.68</td>\n",
       "      <td>2.49</td>\n",
       "      <td>2.57</td>\n",
       "    </tr>\n",
       "  </tbody>\n",
       "</table>\n",
       "</div>"
      ],
      "text/plain": [
       "                         RandomForest   XGB  LightGBM  CatBoost\n",
       "Steps  Score                                                   \n",
       "step 1 train_score               0.39  2.26      2.07      2.17\n",
       "       validation_score         11.78  8.10      8.64      6.87\n",
       "step 2 train_score               0.80  4.17      4.33      4.03\n",
       "       validation_score          2.65  5.23      5.00      4.67\n",
       "step 3 train_score               0.94  6.67      6.62      5.85\n",
       "       validation_score          3.94  3.61      3.27      3.35\n",
       "step 4 train_score               1.09  7.74      8.59      7.48\n",
       "       validation_score          6.44  4.71      4.09      4.35\n",
       "step 5 train_score               1.29 11.17     11.43     10.34\n",
       "       validation_score          1.26  2.68      2.49      2.57"
      ]
     },
     "execution_count": 51,
     "metadata": {},
     "output_type": "execute_result"
    }
   ],
   "source": [
    "scores = pd.MultiIndex.from_product([[\"step \" + str(i) for i in range(1, 6)],\n",
    "                                  ['train_score', 'validation_score']],\n",
    "                                 names=['Steps', 'Score'])\n",
    "models = ['RandomForest', 'XGB', 'LightGBM', 'CatBoost']\n",
    "df = pd.DataFrame('-', scores, models)\n",
    "\n",
    "steps =  [\"step\" + str(i) for i in range(1, 6)]\n",
    "reports = {'RandomForest': random_forest_report,\n",
    "           'XGB':XGB_report,\n",
    "           'LightGBM':LightGBM_report,\n",
    "           'CatBoost':CatBoost_report\n",
    "          }\n",
    "for model, report in reports.items():\n",
    "    temp = []\n",
    "    for step in steps:\n",
    "        temp.append(report[step]['Train/Validation error'][0])\n",
    "        temp.append(report[step]['Train/Validation error'][1])\n",
    "    df[model] = temp\n",
    "df"
   ]
  },
  {
   "cell_type": "markdown",
   "id": "ede9c29e",
   "metadata": {},
   "source": [
    "### Save submission results"
   ]
  },
  {
   "cell_type": "code",
   "execution_count": 58,
   "id": "44b03107",
   "metadata": {},
   "outputs": [],
   "source": [
    "submission_data = {\n",
    "    'RF_submission' : RandomForest_regression_submission,\n",
    "    'XGB_submission' : XGB_regression_submission,\n",
    "    'LightGBM_submission' : LightGBM_regression_submission,\n",
    "    'CatBoost_submission' : CatBoost_regression_submission\n",
    "}"
   ]
  },
  {
   "cell_type": "code",
   "execution_count": 59,
   "id": "023fff98",
   "metadata": {},
   "outputs": [
    {
     "name": "stdout",
     "output_type": "stream",
     "text": [
      "CPU times: total: 969 ms\n",
      "Wall time: 1.12 s\n"
     ]
    }
   ],
   "source": [
    "%%time\n",
    "# add path to load to sys.path \n",
    "path_to_load = \"C:\\\\Repository\\\\DS-Intership-data\\\\baseline_submissions\\\\\"\n",
    "os.makedirs(path_to_load, exist_ok=True)\n",
    "sys.path.append(path_to_load)\n",
    "\n",
    "# load data \n",
    "for file, df in submission_data.items():\n",
    "    df.to_csv(path_to_load+file+\".csv\", index=False)"
   ]
  },
  {
   "cell_type": "code",
   "execution_count": 60,
   "id": "e4d2f473",
   "metadata": {},
   "outputs": [
    {
     "name": "stdout",
     "output_type": "stream",
     "text": [
      "CatBoost_submission.csv\n",
      " LightGBM_submission.csv\n",
      " RF_submission.csv\n",
      " XGB_submission.csv\n",
      "\n"
     ]
    }
   ],
   "source": [
    "from os import listdir\n",
    "from os.path import isfile, join\n",
    "print(*[f+\"\\n\" for f in listdir(path_to_load) if isfile(join(path_to_load, f))])"
   ]
  },
  {
   "attachments": {
    "image.png": {
     "image/png": "[encoded data removed]"
    }
   },
   "cell_type": "markdown",
   "id": "e19ab245",
   "metadata": {},
   "source": [
    "![image.png](attachment:image.png)"
   ]
  }
 ],
 "metadata": {
  "kernelspec": {
   "display_name": "Python 3 (ipykernel)",
   "language": "python",
   "name": "python3"
  },
  "language_info": {
   "codemirror_mode": {
    "name": "ipython",
    "version": 3
   },
   "file_extension": ".py",
   "mimetype": "text/x-python",
   "name": "python",
   "nbconvert_exporter": "python",
   "pygments_lexer": "ipython3",
   "version": "3.11.4"
  }
 },
 "nbformat": 4,
 "nbformat_minor": 5
}
