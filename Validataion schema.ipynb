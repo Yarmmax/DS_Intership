{
 "cells": [
  {
   "cell_type": "markdown",
   "id": "d2b387c6",
   "metadata": {},
   "source": [
    "### Validation schema"
   ]
  },
  {
   "cell_type": "code",
   "execution_count": 1,
   "id": "437116e6",
   "metadata": {},
   "outputs": [],
   "source": [
    "# linear algebra\n",
    "import numpy as np\n",
    "\n",
    "#working with data in table structers\n",
    "import pandas as pd\n",
    "pd.set_option('display.float_format', lambda x: '%.2f' % x)\n",
    "\n",
    "# data visualization\n",
    "import seaborn as sns\n",
    "import matplotlib.pyplot as plt\n",
    "\n",
    "\n",
    "# working with files\n",
    "import sys\n",
    "import os\n",
    "\n",
    "# to off warnings\n",
    "import warnings\n",
    "warnings.filterwarnings('ignore')\n",
    "\n",
    "# validation schema \n",
    "import time\n",
    "from sklearn.model_selection import train_test_split\n",
    "from datetime import timedelta, datetime\n",
    "from sklearn.model_selection import TimeSeriesSplit\n",
    "from sklearn.metrics import mean_squared_error as mse\n",
    "\n",
    "# models\n",
    "from sklearn.tree import DecisionTreeRegressor\n",
    "from sklearn.ensemble import RandomForestRegressor\n",
    "import lightgbm as lgb\n",
    "from xgboost import XGBRegressor\n",
    "import catboost as cb"
   ]
  },
  {
   "cell_type": "code",
   "execution_count": 2,
   "id": "0a3e721b",
   "metadata": {},
   "outputs": [],
   "source": [
    "# # using ray engine for parallel calculation(for oprimization)\n",
    "# %env MODIN_ENGINE=ray\n",
    "# import modin.pandas as mpd"
   ]
  },
  {
   "cell_type": "markdown",
   "id": "b039bbbc",
   "metadata": {},
   "source": [
    "### Read data"
   ]
  },
  {
   "cell_type": "code",
   "execution_count": 3,
   "id": "2ed819f5",
   "metadata": {},
   "outputs": [],
   "source": [
    "# add data path to sys.path \n",
    "train_test_data_path = \"C:\\\\Repository\\\\DS-Intership-data\\\\train_test_data\\\\\"\n",
    "sys.path.append(train_test_data_path)\n",
    "\n",
    "# initiate dict for data\n",
    "to_read_train_test_data = {}\n",
    "\n",
    "# fill to_read\n",
    "for dir_name, _, files in os.walk(train_test_data_path):\n",
    "    for file in files:\n",
    "        to_read_train_test_data[file] = dir_name + file"
   ]
  },
  {
   "cell_type": "code",
   "execution_count": 4,
   "id": "252c8586",
   "metadata": {},
   "outputs": [
    {
     "data": {
      "text/plain": [
       "{'sample_submission.csv': 'C:\\\\Repository\\\\DS-Intership-data\\\\train_test_data\\\\sample_submission.csv',\n",
       " 'submission_example.csv': 'C:\\\\Repository\\\\DS-Intership-data\\\\train_test_data\\\\submission_example.csv',\n",
       " 'test_data.csv': 'C:\\\\Repository\\\\DS-Intership-data\\\\train_test_data\\\\test_data.csv',\n",
       " 'train_data.csv': 'C:\\\\Repository\\\\DS-Intership-data\\\\train_test_data\\\\train_data.csv'}"
      ]
     },
     "execution_count": 4,
     "metadata": {},
     "output_type": "execute_result"
    }
   ],
   "source": [
    "# check to_read\n",
    "to_read_train_test_data"
   ]
  },
  {
   "cell_type": "code",
   "execution_count": 5,
   "id": "eaf1415d",
   "metadata": {},
   "outputs": [
    {
     "name": "stdout",
     "output_type": "stream",
     "text": [
      "CPU times: total: 19.9 s\n",
      "Wall time: 20.2 s\n"
     ]
    }
   ],
   "source": [
    "%%time\n",
    "data = {}\n",
    "# read data\n",
    "for file, path in to_read_train_test_data.items():\n",
    "    data[file.split('.')[0]] = pd.read_csv(os.path.join(os.path.dirname(path), file), index_col=0)"
   ]
  },
  {
   "cell_type": "markdown",
   "id": "7181d836",
   "metadata": {},
   "source": [
    "### Validation schema creation"
   ]
  },
  {
   "cell_type": "code",
   "execution_count": 6,
   "id": "8f1b6e05",
   "metadata": {},
   "outputs": [],
   "source": [
    "\"\"\"\n",
    "    The following indexes will be used:\n",
    "        \n",
    "        from train_data:\n",
    "          date_block_num\n",
    "          shop_id\n",
    "          item_category_id\n",
    "          item_id\n",
    "          item_cnt_month\n",
    "        \n",
    "        from test_data:\n",
    "            shop_id',\n",
    "            'item_id',\n",
    "            'ID'\n",
    "\n",
    "    Concept:\n",
    "        Apply expanding window validation (except last month - target of competition)\n",
    "        Monthly predictions\n",
    "\"\"\"\n",
    "\n",
    "class Validation:\n",
    "    def __init__(self,\n",
    "                 train_data,\n",
    "                 test_data,\n",
    "                 submission_example,\n",
    "                 metrics=['rmse'],\n",
    "                 n_splits=5,\n",
    "                 model=DecisionTreeRegressor(max_depth=1, random_state=42),\n",
    "                 check_nans = True,\n",
    "                 dropna = False,\n",
    "                 check_infs = True\n",
    "                ):\n",
    "        self.train_data = train_data\n",
    "        self.test_data = test_data\n",
    "        self.submission_example = submission_example\n",
    "        self.metrics = metrics\n",
    "        self.n_splits = n_splits\n",
    "        self.model = model\n",
    "        self.tscv = TimeSeriesSplit(n_splits=self.n_splits)\n",
    "\n",
    "        # Check data for valid columns\n",
    "        assert set([\n",
    "                    'date_block_num',\n",
    "                    'shop_id',\n",
    "                    'item_category_id',\n",
    "                    'item_id',\n",
    "                    'item_cnt_month'\n",
    "                   ]).issubset(train_data.columns),\\\n",
    "                \"Invalid data\"\n",
    "        \n",
    "        assert set([\n",
    "                    'shop_id',\n",
    "                    'item_category_id',\n",
    "                    'item_id',\n",
    "                   ]).issubset(test_data.columns),\\\n",
    "                \"Invalid data\"\n",
    "        \n",
    "        assert set([\n",
    "                    'shop_id',\n",
    "                    'item_id',\n",
    "                    'ID'\n",
    "                    ]).issubset(submission_example.columns),\\\n",
    "                \"Invalid data\"\n",
    "        \n",
    "        # Check for valid variables\n",
    "        if dropna:\n",
    "            self.train_data = self.train_data.dropna()\n",
    "            self.test_data = self.test_data.dropna()\n",
    "            \n",
    "        if check_nans:\n",
    "            assert self.train_data.isna().sum().sum() == 0, 'Train data have NaNs'\n",
    "        if check_infs:\n",
    "            assert np.isfinite(self.train_data).sum().sum() != 0, 'Train data have Infs'\n",
    "        if check_nans:\n",
    "            assert self.test_data.isna().sum().sum() == 0, 'Test data have NaNs'\n",
    "        if check_infs:\n",
    "            assert np.isfinite(self.test_data).sum().sum() != 0, 'Test data have Infs'\n",
    "        \n",
    "        # Сheck for sorting by timeseries data\n",
    "        amount_of_unsorted_rows = len(self.train_data) - (self.train_data.date_block_num.diff().fillna(0) >= 0).sum()\n",
    "        if amount_of_unsorted_rows != 0:\n",
    "            print(f\"Data is not sorted by time ({amount_of_unsorted_rows} rows), it will be further sorted automatically\")\n",
    "            self.train_data = self.train_data.sort_values(by=['date_block_num'])\n",
    "            \n",
    "        # Split to X and y\n",
    "        self.X = self.train_data.drop(columns='item_cnt_month')\n",
    "        self.y = self.train_data[['item_id', 'shop_id', 'item_cnt_month']]\n",
    "        \n",
    "        # Validation process visualisation\n",
    "        split_history = {\n",
    "            'Step': [\"Step\"+str(i) for i in range(1, self.n_splits+1)],\n",
    "            'Train Data': [], \n",
    "            'Validation Data': []\n",
    "        }\n",
    "        for train, val in self.tscv.split(self.train_data[['item_id', 'shop_id', 'item_cnt_month']]):    \n",
    "            split_history['Train Data'].append(train.max()-train.min())\n",
    "            split_history['Validation Data'].append(val.max()-val.min())\n",
    "        df = pd.DataFrame(split_history)\n",
    "        print(df)\n",
    "        sns.set(style=\"whitegrid\")\n",
    "        plt.figure(figsize=(6, 5))\n",
    "        sns.barplot(x='Step', y='Train Data', data=df, color='skyblue', label='Train Data')\n",
    "        sns.barplot(x='Step', y='Validation Data', data=df, color='salmon', label='Validation Data', bottom=df['Train Data'])\n",
    "        plt.title('Distribution of data for training and validation')\n",
    "        plt.xlabel('Validation step')\n",
    "        plt.ylabel('Data quantity')\n",
    "        plt.legend(loc='upper right')\n",
    "        plt.tight_layout()\n",
    "        plt.show()\n",
    "    \n",
    "    def calculate_metrics(self, y_pred, y_true):\n",
    "        rmse = mse(y_true, y_pred, squared=True)\n",
    "        return rmse\n",
    "    \n",
    "    # Predict sales for target month (November 2015)\n",
    "    def fit_predict(self, predictions_by_ID = True):\n",
    "        \"\"\"\n",
    "            Return target predictions in accordance with submission example\n",
    "        \"\"\"\n",
    "        X_train, y_train = self.train_data.drop(columns=['item_cnt_month']),\\\n",
    "                           self.train_data.item_cnt_month\n",
    "        X_test = self.test_data\n",
    "        X_test['date_block_num'] = 34\n",
    "        model = self.model\n",
    "        \n",
    "        model.fit(X_train, y_train)\n",
    "        if predictions_by_ID:\n",
    "            result = X_test.join(pd.DataFrame(index=X_test.index, data=model.predict(X_test.values),\\\n",
    "                                           columns=['item_cnt_month']))\\\n",
    "                                                [['item_id', 'shop_id', 'item_cnt_month']].\\\n",
    "                                merge(self.submission_example, on=['shop_id', 'item_id'], how='right')\\\n",
    "                    .drop_duplicates(['item_id', 'shop_id'])[['ID', 'item_cnt_month']].sort_values(by='ID')\n",
    "            result.item_cnt_month = result.item_cnt_month.clip(0, 20).fillna(0) \n",
    "            return result\n",
    "        else:\n",
    "            return model.predict(X_val) \n",
    "    \n",
    "    def evaluate(self, predictions_by_ID = True):\n",
    "        \n",
    "        eval_report = {}\n",
    "        \n",
    "        # Evaluation loop\n",
    "        step = 0\n",
    "        for train, val in self.tscv.split(self.y):\n",
    "            \n",
    "            # Initialize steps and timer\n",
    "            step += 1\n",
    "            ts = time.time()\n",
    "\n",
    "            # Split data step\n",
    "            y_tr, y_val = self.y.iloc[train], self.y.iloc[val]\n",
    "            X_tr, X_val = self.X.iloc[train], self.X.iloc[val]\n",
    "\n",
    "            # Train step\n",
    "            rng = np.random.RandomState(42)\n",
    "            model = self.model\n",
    "            model.fit(X_tr.values, y_tr.item_cnt_month.values)\n",
    "\n",
    "            # Evaluation step\n",
    "            y_tr_pr = pd.DataFrame(index=X_tr.index, data=model.predict(X_tr.values), columns=['item_cnt_month'])\n",
    "            y_val_pr = pd.DataFrame(index=X_val.index, data=model.predict(X_val.values), columns=['item_cnt_month'])\n",
    "            \n",
    "            # Extract step (predictions by ID)\n",
    "            if predictions_by_ID:\n",
    "                nan_report = {}\n",
    "                y_tr = y_tr.merge(self.test_data, on=['shop_id', 'item_id'], how='right')\n",
    "                nan_report['y_train'] = f\"{y_tr.item_cnt_month.isna().sum() / y_tr.shape[0] * 100} %\"\n",
    "                y_tr = y_tr.fillna(0)\n",
    "                y_val = y_val.merge(self.test_data, on=['shop_id', 'item_id'], how='right')\n",
    "                nan_report['y_val'] = f\"{y_val.item_cnt_month.isna().sum() / y_val.shape[0] * 100} %\"\n",
    "                y_val = y_val.fillna(0)\n",
    "                y_tr_pr = X_tr.join(y_tr_pr)[['item_id', 'shop_id', 'item_cnt_month']].\\\n",
    "                                            merge(self.test_data, on=['shop_id', 'item_id'], how='right')\n",
    "                nan_report['y_train_pred'] = f\"{y_tr_pr.item_cnt_month.isna().sum() / y_tr_pr.shape[0] * 100} %\"\n",
    "                y_tr_pr = y_tr_pr.fillna(0)\n",
    "                y_val_pr = X_val.join(y_val_pr)[['item_id', 'shop_id', 'item_cnt_month']].\\\n",
    "                                            merge(self.test_data, on=['shop_id', 'item_id'], how='right')\n",
    "                nan_report['y_val_pred'] = f\"{y_val_pr.item_cnt_month.isna().sum() / y_val_pr.shape[0] * 100} %\"\n",
    "                y_val_pr = y_val_pr.fillna(0)\n",
    "            \n",
    "            # Calculate time required for step\n",
    "            time_info = time.time() - ts\n",
    "            \n",
    "            # Metrics calucaltion step\n",
    "            eval_report[\"step\"+str(step)] = {\n",
    "                \"Train/Validation limits\" : f\"TRAIN: from {train.min()} to  {train.max()}  (size: {train.max() - train.min()} ) \" +\n",
    "                                      f\"VALIDATION: from {val.min()} to  {val.max()}  (size: {val.max() - val.min()} )\",\n",
    "                \"Train/Validation error\" : [self.calculate_metrics(y_tr_pr.item_cnt_month, y_tr.item_cnt_month),\n",
    "                           self.calculate_metrics(y_val_pr.item_cnt_month, y_val.item_cnt_month)],\n",
    "                \"Feature_importance\" : model.feature_importances_,\n",
    "                \"Nan_report\" : nan_report,\n",
    "                \"Time for step\" : f\"{time_info} s\",\n",
    "                \"__________________\" : \"_________________________________________________________________________________\"\n",
    "            }\n",
    "            \n",
    "        return eval_report     "
   ]
  },
  {
   "cell_type": "code",
   "execution_count": 7,
   "id": "b05fb74b",
   "metadata": {},
   "outputs": [
    {
     "name": "stdout",
     "output_type": "stream",
     "text": [
      "Data is not sorted by time (18781 rows), it will be further sorted automatically\n",
      "    Step  Train Data  Validation Data\n",
      "0  Step1     1817153          1817153\n",
      "1  Step2     3634307          1817153\n",
      "2  Step3     5451461          1817153\n",
      "3  Step4     7268615          1817153\n",
      "4  Step5     9085769          1817153\n"
     ]
    },
    {
     "data": {
      "image/png": "[encoded data removed]",
      "text/plain": [
       "<Figure size 600x500 with 1 Axes>"
      ]
     },
     "metadata": {},
     "output_type": "display_data"
    },
    {
     "name": "stdout",
     "output_type": "stream",
     "text": [
      "CPU times: total: 3.39 s\n",
      "Wall time: 3.43 s\n"
     ]
    }
   ],
   "source": [
    "%%time\n",
    "test_validation_class = Validation(\n",
    "                 train_data=data['train_data'],\n",
    "                 test_data=data['test_data'],\n",
    "                 submission_example=data['submission_example'],\n",
    "                 n_splits=5,\n",
    "                 model = DecisionTreeRegressor(max_depth=2, random_state=42),\n",
    "                 check_nans=False\n",
    "                )"
   ]
  },
  {
   "cell_type": "code",
   "execution_count": null,
   "id": "256e7524",
   "metadata": {},
   "outputs": [],
   "source": [
    "%%time\n",
    "test_validation_class.evaluate()"
   ]
  },
  {
   "cell_type": "code",
   "execution_count": null,
   "id": "a944480d",
   "metadata": {},
   "outputs": [],
   "source": [
    "%%time\n",
    "test_validation_class.fit_predict()"
   ]
  },
  {
   "cell_type": "markdown",
   "id": "327ce930",
   "metadata": {},
   "source": [
    "### Learn models"
   ]
  },
  {
   "cell_type": "markdown",
   "id": "ce86fda6",
   "metadata": {},
   "source": [
    "##### Random Forest Regressor"
   ]
  },
  {
   "cell_type": "code",
   "execution_count": null,
   "id": "49ea5215",
   "metadata": {},
   "outputs": [],
   "source": [
    "%%time\n",
    "random_forest_regression = Validation(\n",
    "                                 train_data=data['train_data'],\n",
    "                                 test_data=data['test_data'],\n",
    "                                 submission_example=data['submission_example'],\n",
    "                                 n_splits=5,\n",
    "                                 model = RandomForestRegressor(max_depth=4, n_estimators=25, random_state=42, n_jobs=-1),\n",
    "                                 check_nans=True,\n",
    "                                 dropna = True\n",
    "                           )"
   ]
  },
  {
   "cell_type": "code",
   "execution_count": null,
   "id": "a4375f77",
   "metadata": {},
   "outputs": [],
   "source": [
    "%%time\n",
    "random_forest_regression.evaluate()"
   ]
  },
  {
   "cell_type": "code",
   "execution_count": null,
   "id": "081898d3",
   "metadata": {},
   "outputs": [],
   "source": [
    "%%time\n",
    "RandomForest_regression_submission = random_forest_regression.fit_predict()"
   ]
  },
  {
   "cell_type": "markdown",
   "id": "f59d6173",
   "metadata": {},
   "source": [
    "##### XGboost"
   ]
  },
  {
   "cell_type": "code",
   "execution_count": null,
   "id": "05e069f9",
   "metadata": {},
   "outputs": [],
   "source": [
    "%%time\n",
    "XGB_regression = Validation(\n",
    "                     train_data=data['train_data'],\n",
    "                     test_data=data['test_data'],\n",
    "                     submission_example=data['submission_example'],\n",
    "                     n_splits=5,\n",
    "                     model = XGBRegressor(),\n",
    "                     check_nans=True,\n",
    "                     dropna = True\n",
    "                 ) "
   ]
  },
  {
   "cell_type": "code",
   "execution_count": null,
   "id": "8fad44de",
   "metadata": {},
   "outputs": [],
   "source": [
    "%%time\n",
    "XGB_regression.evaluate()"
   ]
  },
  {
   "cell_type": "code",
   "execution_count": null,
   "id": "dd439358",
   "metadata": {},
   "outputs": [],
   "source": [
    "%%time\n",
    "XGB_regression_submission = XGB_regression.fir_predict()"
   ]
  },
  {
   "cell_type": "markdown",
   "id": "a7f67ca3",
   "metadata": {},
   "source": [
    "##### LightGBM"
   ]
  },
  {
   "cell_type": "code",
   "execution_count": null,
   "id": "34615b9f",
   "metadata": {},
   "outputs": [],
   "source": [
    "%%time\n",
    "\n",
    "# params = {\n",
    "#     'task': 'train',\n",
    "#     'boosting_type': 'gbdt',\n",
    "#     'objective': 'regression',\n",
    "#     'metric': ['rmse']\n",
    "# }\n",
    "\n",
    "LightGBM_regression = Validation(\n",
    "                     train_data=data['train_data'],\n",
    "                     test_data=data['test_data'],\n",
    "                     submission_example=data['submission_example'],\n",
    "                     n_splits=5,\n",
    "                     model = lgb.LGBMRegressor(),\n",
    "                     check_nans=True,\n",
    "                     dropna = True\n",
    "                 ) "
   ]
  },
  {
   "cell_type": "code",
   "execution_count": null,
   "id": "63025719",
   "metadata": {},
   "outputs": [],
   "source": [
    "%%time\n",
    "LightGBM_regression.evaluate()"
   ]
  },
  {
   "cell_type": "code",
   "execution_count": null,
   "id": "d9e170db",
   "metadata": {},
   "outputs": [],
   "source": [
    "%%time\n",
    "LightGBM_regression_submission = LightGBM_regression.fit_predict()"
   ]
  },
  {
   "cell_type": "markdown",
   "id": "4ae298eb",
   "metadata": {},
   "source": [
    "##### Catboost"
   ]
  },
  {
   "cell_type": "code",
   "execution_count": null,
   "id": "0ad8597c",
   "metadata": {},
   "outputs": [],
   "source": [
    "%%time\n",
    "catboost_regression = Validation(\n",
    "                 train_data=data['train_data'],\n",
    "                 test_data=data['test_data'],\n",
    "                 n_splits=5,\n",
    "                 model = cb.CatBoostRegressor(),\n",
    "                 check_nans=False\n",
    "                )"
   ]
  },
  {
   "cell_type": "code",
   "execution_count": null,
   "id": "798d6cc5",
   "metadata": {},
   "outputs": [],
   "source": [
    "%%time\n",
    "CatBoost_regression_submission = catboost_regression.fit_predict()"
   ]
  },
  {
   "cell_type": "markdown",
   "id": "b9807340",
   "metadata": {},
   "source": [
    "### Сomparison of models based on validation results"
   ]
  },
  {
   "cell_type": "code",
   "execution_count": null,
   "id": "c649a1fc",
   "metadata": {},
   "outputs": [],
   "source": [
    "### add table with validation results"
   ]
  },
  {
   "cell_type": "markdown",
   "id": "ede9c29e",
   "metadata": {},
   "source": [
    "### Save submission results"
   ]
  },
  {
   "cell_type": "code",
   "execution_count": null,
   "id": "44b03107",
   "metadata": {},
   "outputs": [],
   "source": [
    "submission_data = {\n",
    "    'RF_submission' : RandomForest_regression_submission,\n",
    "    'XGB_submission' : XGB_regression_submission,\n",
    "    'LightGBM_submission' : LightGBM_regression_submission,\n",
    "    'CatBoost_submission' : CatBoost_regression_submission\n",
    "}"
   ]
  },
  {
   "cell_type": "code",
   "execution_count": null,
   "id": "023fff98",
   "metadata": {},
   "outputs": [],
   "source": [
    "%%time\n",
    "# add path to load to sys.path \n",
    "path_to_load = \"C:\\\\Repository\\\\DS-Intership-data\\\\baseline_submissions\\\\\"\n",
    "os.makedirs(path_to_load, exist_ok=True)\n",
    "sys.path.append(path_to_load)\n",
    "\n",
    "# load data \n",
    "for file, df in cluster_data.items():\n",
    "    df.to_csv(path_to_load+file+\".csv\", index=False)"
   ]
  },
  {
   "cell_type": "code",
   "execution_count": null,
   "id": "e4d2f473",
   "metadata": {},
   "outputs": [],
   "source": [
    "from os import listdir\n",
    "from os.path import isfile, join\n",
    "print(*[f+\"\\n\" for f in listdir(path_to_load) if isfile(join(path_to_load, f))])"
   ]
  },
  {
   "cell_type": "code",
   "execution_count": null,
   "id": "c86ae8f4",
   "metadata": {},
   "outputs": [],
   "source": [
    "### add table with submission results"
   ]
  }
 ],
 "metadata": {
  "kernelspec": {
   "display_name": "Python 3 (ipykernel)",
   "language": "python",
   "name": "python3"
  },
  "language_info": {
   "codemirror_mode": {
    "name": "ipython",
    "version": 3
   },
   "file_extension": ".py",
   "mimetype": "text/x-python",
   "name": "python",
   "nbconvert_exporter": "python",
   "pygments_lexer": "ipython3",
   "version": "3.11.4"
  }
 },
 "nbformat": 4,
 "nbformat_minor": 5
}
