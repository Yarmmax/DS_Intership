{
 "cells": [
  {
   "cell_type": "markdown",
   "id": "f69b8468",
   "metadata": {},
   "source": [
    "Test pathlib"
   ]
  },
  {
   "cell_type": "code",
   "execution_count": null,
   "id": "1c5383e2",
   "metadata": {},
   "outputs": [],
   "source": []
  },
  {
   "cell_type": "code",
   "execution_count": 21,
   "id": "c3bcd83a",
   "metadata": {},
   "outputs": [
    {
     "name": "stdout",
     "output_type": "stream",
     "text": [
      "<class 'pathlib.WindowsPath'>\n"
     ]
    },
    {
     "ename": "NameError",
     "evalue": "name 'os' is not defined",
     "output_type": "error",
     "traceback": [
      "\u001b[1;31m---------------------------------------------------------------------------\u001b[0m",
      "\u001b[1;31mNameError\u001b[0m                                 Traceback (most recent call last)",
      "Cell \u001b[1;32mIn[21], line 9\u001b[0m\n\u001b[0;32m      6\u001b[0m to_read_train_test_data \u001b[38;5;241m=\u001b[39m {}\n\u001b[0;32m      8\u001b[0m \u001b[38;5;66;03m# fill to_read\u001b[39;00m\n\u001b[1;32m----> 9\u001b[0m \u001b[38;5;28;01mfor\u001b[39;00m dir_name, _, files \u001b[38;5;129;01min\u001b[39;00m os\u001b[38;5;241m.\u001b[39mwalk(train_test_data_path):\n\u001b[0;32m     10\u001b[0m     \u001b[38;5;28;01mfor\u001b[39;00m file \u001b[38;5;129;01min\u001b[39;00m files:\n\u001b[0;32m     11\u001b[0m         to_read_train_test_data[file] \u001b[38;5;241m=\u001b[39m dir_name \u001b[38;5;241m+\u001b[39m file\n",
      "\u001b[1;31mNameError\u001b[0m: name 'os' is not defined"
     ]
    }
   ],
   "source": [
    "import pathlib\n",
    "train_test_data_ = pathlib.Path('C:\\Repository\\DS-Intership-data') / 'train_test_data'\n",
    "print(type(path))\n",
    "\n",
    "# initiate dict for data\n",
    "to_read_train_test_data = {}\n",
    "\n",
    "# fill to_read\n",
    "for dir_name, _, files in os.walk(train_test_data_path):\n",
    "    for file in files:\n",
    "        to_read_train_test_data[file] = dir_name + file"
   ]
  },
  {
   "cell_type": "code",
   "execution_count": 20,
   "id": "a7701797",
   "metadata": {},
   "outputs": [
    {
     "name": "stdout",
     "output_type": "stream",
     "text": [
      "C:\\Repository\\DS-Intership-data\\train_test_data\\submission_example.csv\n",
      "C:\\Repository\\DS-Intership-data\\train_test_data\\test_data.csv\n",
      "C:\\Repository\\DS-Intership-data\\train_test_data\\train_data.csv\n"
     ]
    }
   ],
   "source": [
    "content = path.iterdir()\n",
    "for file in content:\n",
    "    print(file)"
   ]
  },
  {
   "cell_type": "code",
   "execution_count": null,
   "id": "eecd85ab",
   "metadata": {},
   "outputs": [],
   "source": [
    "\n",
    "\n",
    "\n",
    "\n"
   ]
  }
 ],
 "metadata": {
  "kernelspec": {
   "display_name": "Python 3 (ipykernel)",
   "language": "python",
   "name": "python3"
  },
  "language_info": {
   "codemirror_mode": {
    "name": "ipython",
    "version": 3
   },
   "file_extension": ".py",
   "mimetype": "text/x-python",
   "name": "python",
   "nbconvert_exporter": "python",
   "pygments_lexer": "ipython3",
   "version": "3.11.4"
  }
 },
 "nbformat": 4,
 "nbformat_minor": 5
}
