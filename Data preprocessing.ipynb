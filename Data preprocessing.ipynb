{
 "cells": [
  {
   "cell_type": "code",
   "execution_count": 51,
   "id": "dad3468d",
   "metadata": {},
   "outputs": [],
   "source": [
    "# linear algebra\n",
    "import numpy as np\n",
    "\n",
    "#working with data in table structers\n",
    "import pandas as pd\n",
    "pd.set_option('display.float_format', lambda x: '%.2f' % x)\n",
    "\n",
    "# data visualization\n",
    "#import seaborn as sns\n",
    "#import matplotlib.pyplot as plt\n",
    "\n",
    "\n",
    "# working with files\n",
    "import sys\n",
    "import os\n",
    "\n",
    "# to off warnings\n",
    "import warnings\n",
    "warnings.filterwarnings('ignore')\n",
    "\n",
    "# data preprocessing\n",
    "from itertools import product\n",
    "import time\n",
    "from sklearn.preprocessing import LabelEncoder\n",
    "from sklearn.preprocessing import StandardScaler"
   ]
  },
  {
   "cell_type": "code",
   "execution_count": 52,
   "id": "a9693c0f",
   "metadata": {},
   "outputs": [],
   "source": [
    "# # using ray engine for parallel calculation(for oprimization)\n",
    "# %env MODIN_ENGINE=ray\n",
    "# import modin.pandas as mpd"
   ]
  },
  {
   "cell_type": "markdown",
   "id": "84df0f65",
   "metadata": {},
   "source": [
    "###### Load data"
   ]
  },
  {
   "cell_type": "markdown",
   "id": "8a435bd0",
   "metadata": {},
   "source": [
    "Clean data"
   ]
  },
  {
   "cell_type": "code",
   "execution_count": 53,
   "id": "319cd97e",
   "metadata": {},
   "outputs": [],
   "source": [
    "# add data path to sys.path \n",
    "clean_data_path = \"C:\\\\Repository\\\\DS-Intership-data\\\\clean_data\\\\\"\n",
    "sys.path.append(clean_data_path)\n",
    "\n",
    "# initiate dict for data\n",
    "to_read_clean_data = {}\n",
    "\n",
    "# fill to_read\n",
    "for dir_name, _, files in os.walk(clean_data_path):\n",
    "    for file in files:\n",
    "        to_read_clean_data[file] = dir_name + file"
   ]
  },
  {
   "cell_type": "code",
   "execution_count": 54,
   "id": "192bc216",
   "metadata": {},
   "outputs": [
    {
     "data": {
      "text/plain": [
       "{'items.csv': 'C:\\\\Repository\\\\DS-Intership-data\\\\clean_data\\\\items.csv',\n",
       " 'item_categories.csv': 'C:\\\\Repository\\\\DS-Intership-data\\\\clean_data\\\\item_categories.csv',\n",
       " 'sales_train.csv': 'C:\\\\Repository\\\\DS-Intership-data\\\\clean_data\\\\sales_train.csv',\n",
       " 'sample_submission.csv': 'C:\\\\Repository\\\\DS-Intership-data\\\\clean_data\\\\sample_submission.csv',\n",
       " 'shops.csv': 'C:\\\\Repository\\\\DS-Intership-data\\\\clean_data\\\\shops.csv',\n",
       " 'test.csv': 'C:\\\\Repository\\\\DS-Intership-data\\\\clean_data\\\\test.csv'}"
      ]
     },
     "execution_count": 54,
     "metadata": {},
     "output_type": "execute_result"
    }
   ],
   "source": [
    "# check to_read\n",
    "to_read_clean_data"
   ]
  },
  {
   "cell_type": "code",
   "execution_count": 55,
   "id": "574757dd",
   "metadata": {},
   "outputs": [
    {
     "name": "stdout",
     "output_type": "stream",
     "text": [
      "CPU times: total: 1.23 s\n",
      "Wall time: 1.43 s\n"
     ]
    }
   ],
   "source": [
    "%%time\n",
    "data = {}\n",
    "# read data\n",
    "for file, path in to_read_clean_data.items():\n",
    "    data[file.split('.')[0]] = pd.read_csv(os.path.join(os.path.dirname(path), file), index_col=0)"
   ]
  },
  {
   "cell_type": "markdown",
   "id": "8de0244d",
   "metadata": {},
   "source": [
    "Cluster data"
   ]
  },
  {
   "cell_type": "code",
   "execution_count": 56,
   "id": "b533687f",
   "metadata": {},
   "outputs": [],
   "source": [
    "# add data path to sys.path \n",
    "cluster_data_path = \"C:\\\\Repository\\\\DS-Intership-data\\\\cluster_data\\\\\"\n",
    "sys.path.append(cluster_data_path)\n",
    "\n",
    "# initiate dict for data\n",
    "to_read_cluster_data = {}\n",
    "\n",
    "# fill to_read\n",
    "for dir_name, _, files in os.walk(cluster_data_path):\n",
    "    for file in files:\n",
    "        to_read_cluster_data[file] = dir_name + file"
   ]
  },
  {
   "cell_type": "code",
   "execution_count": 57,
   "id": "2f036886",
   "metadata": {},
   "outputs": [
    {
     "data": {
      "text/plain": [
       "{'item_category_clusters.csv': 'C:\\\\Repository\\\\DS-Intership-data\\\\cluster_data\\\\item_category_clusters.csv',\n",
       " 'item_price_clusters.csv': 'C:\\\\Repository\\\\DS-Intership-data\\\\cluster_data\\\\item_price_clusters.csv',\n",
       " 'shop_clusters.csv': 'C:\\\\Repository\\\\DS-Intership-data\\\\cluster_data\\\\shop_clusters.csv',\n",
       " 'subtype_clusters.csv': 'C:\\\\Repository\\\\DS-Intership-data\\\\cluster_data\\\\subtype_clusters.csv',\n",
       " 'type_code_clusters.csv': 'C:\\\\Repository\\\\DS-Intership-data\\\\cluster_data\\\\type_code_clusters.csv'}"
      ]
     },
     "execution_count": 57,
     "metadata": {},
     "output_type": "execute_result"
    }
   ],
   "source": [
    "# check to_read\n",
    "to_read_cluster_data"
   ]
  },
  {
   "cell_type": "code",
   "execution_count": 58,
   "id": "32ecf8ce",
   "metadata": {},
   "outputs": [
    {
     "name": "stdout",
     "output_type": "stream",
     "text": [
      "CPU times: total: 359 ms\n",
      "Wall time: 417 ms\n"
     ]
    }
   ],
   "source": [
    "%%time\n",
    "cluster_data = {}\n",
    "# read data\n",
    "for file, path in to_read_cluster_data.items():\n",
    "    cluster_data[file.split('.')[0]] = pd.read_csv(os.path.join(os.path.dirname(path), file), index_col=0)"
   ]
  },
  {
   "cell_type": "markdown",
   "id": "a7469ba2",
   "metadata": {},
   "source": [
    "### Data proccesing"
   ]
  },
  {
   "cell_type": "markdown",
   "id": "ba0104ac",
   "metadata": {},
   "source": [
    "###### Reduce memory usage for big dataset  "
   ]
  },
  {
   "cell_type": "code",
   "execution_count": 59,
   "id": "c883c9aa",
   "metadata": {},
   "outputs": [],
   "source": [
    "def reduce_mem_usage(df, verbose=True):\n",
    "    numerics = ['int16', 'int32', 'int64', 'float16', 'float32', 'float64']\n",
    "    start_mem = df.memory_usage().sum() / 1024**2    \n",
    "    for col in df.columns:\n",
    "        col_type = df[col].dtypes\n",
    "        if col_type in numerics:\n",
    "            c_min = df[col].min()\n",
    "            c_max = df[col].max()\n",
    "            if str(col_type)[:3] == 'int':\n",
    "                if c_min > np.iinfo(np.int8).min and c_max < np.iinfo(np.int8).max:\n",
    "                    df[col] = df[col].astype(np.int8)\n",
    "                elif c_min > np.iinfo(np.int16).min and c_max < np.iinfo(np.int16).max:\n",
    "                       df[col] = df[col].astype(np.int16)\n",
    "                elif c_min > np.iinfo(np.int32).min and c_max < np.iinfo(np.int32).max:\n",
    "                    df[col] = df[col].astype(np.int32)\n",
    "                elif c_min > np.iinfo(np.int64).min and c_max < np.iinfo(np.int64).max:\n",
    "                    df[col] = df[col].astype(np.int64)  \n",
    "            else:\n",
    "                if c_min > np.finfo(np.float16).min and c_max < np.finfo(np.float16).max:\n",
    "                    df[col] = df[col].astype(np.float16)\n",
    "                elif c_min > np.finfo(np.float32).min and c_max < np.finfo(np.float32).max:\n",
    "                    df[col] = df[col].astype(np.float32)\n",
    "                else:\n",
    "                    df[col] = df[col].astype(np.float64)    \n",
    "    end_mem = df.memory_usage().sum() / 1024**2\n",
    "    if verbose: print('Mem. usage decreased to {:5.2f} Mb ({:.1f}% reduction)'.format(end_mem, 100 * (start_mem - end_mem) / start_mem))\n",
    "    return df"
   ]
  },
  {
   "cell_type": "code",
   "execution_count": 60,
   "id": "96258c36",
   "metadata": {},
   "outputs": [
    {
     "name": "stdout",
     "output_type": "stream",
     "text": [
      "Mem. usage decreased to  0.40 Mb (40.6% reduction)\n",
      "Mem. usage decreased to  0.00 Mb (29.2% reduction)\n",
      "Mem. usage decreased to 89.25 Mb (50.0% reduction)\n",
      "Mem. usage decreased to  2.86 Mb (41.7% reduction)\n",
      "Mem. usage decreased to  0.00 Mb (21.9% reduction)\n",
      "Mem. usage decreased to  3.06 Mb (53.1% reduction)\n"
     ]
    }
   ],
   "source": [
    "for df_name, df in data.items():\n",
    "    df = pretrained_data = reduce_mem_usage(df, verbose=True)"
   ]
  },
  {
   "cell_type": "markdown",
   "id": "ed0aaf12",
   "metadata": {},
   "source": [
    "###### Build pretrained data"
   ]
  },
  {
   "cell_type": "code",
   "execution_count": 61,
   "id": "6af7412a",
   "metadata": {},
   "outputs": [
    {
     "name": "stdout",
     "output_type": "stream",
     "text": [
      "CPU times: total: 7.97 s\n",
      "Wall time: 9 s\n"
     ]
    }
   ],
   "source": [
    "%%time\n",
    "# combinate month, shop and item in order of increasing month\n",
    "pretrained_data  = []\n",
    "cols  = [\"date_block_num\", \"shop_id\", \"item_id\"]\n",
    "for i in range(34):\n",
    "    sales = data['sales_train'][data['sales_train'].date_block_num == i]\n",
    "    pretrained_data.append(np.array(list(product([i], sales.shop_id.unique(), sales.item_id.unique()))))\n",
    "\n",
    "pretrained_data = pd.DataFrame(np.vstack(pretrained_data), columns = cols )\n",
    "pretrained_data.sort_values(cols, inplace = True)\n",
    "\n",
    "# merge datasets for data preprocessing\n",
    "pretrained_data = pd.merge(pretrained_data, data['shops'], on = [\"shop_id\"], how = \"left\" )\n",
    "pretrained_data = pd.merge(pretrained_data, data['items'], on = [\"item_id\"], how = \"left\")\n",
    "pretrained_data = pd.merge(pretrained_data, data['item_categories'], on = [\"item_category_id\"], how = \"left\" )"
   ]
  },
  {
   "cell_type": "code",
   "execution_count": 62,
   "id": "0abe6f83",
   "metadata": {},
   "outputs": [
    {
     "name": "stdout",
     "output_type": "stream",
     "text": [
      "CPU times: total: 469 ms\n",
      "Wall time: 509 ms\n"
     ]
    }
   ],
   "source": [
    "%%time\n",
    "# add profit from sales\n",
    "pretrained_data[\"profit\"] = data['sales_train'][\"item_cnt_day\"] * data['sales_train'][\"item_price\"]"
   ]
  },
  {
   "cell_type": "code",
   "execution_count": 63,
   "id": "544333b7",
   "metadata": {},
   "outputs": [
    {
     "name": "stdout",
     "output_type": "stream",
     "text": [
      "CPU times: total: 2.55 s\n",
      "Wall time: 2.88 s\n"
     ]
    },
    {
     "data": {
      "text/html": [
       "<div>\n",
       "<style scoped>\n",
       "    .dataframe tbody tr th:only-of-type {\n",
       "        vertical-align: middle;\n",
       "    }\n",
       "\n",
       "    .dataframe tbody tr th {\n",
       "        vertical-align: top;\n",
       "    }\n",
       "\n",
       "    .dataframe thead th {\n",
       "        text-align: right;\n",
       "    }\n",
       "</style>\n",
       "<table border=\"1\" class=\"dataframe\">\n",
       "  <thead>\n",
       "    <tr style=\"text-align: right;\">\n",
       "      <th></th>\n",
       "      <th>date_block_num</th>\n",
       "      <th>shop_id</th>\n",
       "      <th>item_id</th>\n",
       "      <th>shop_name</th>\n",
       "      <th>city</th>\n",
       "      <th>item_name</th>\n",
       "      <th>item_category_id</th>\n",
       "      <th>item_category_name</th>\n",
       "      <th>profit</th>\n",
       "      <th>item_cnt_month</th>\n",
       "    </tr>\n",
       "  </thead>\n",
       "  <tbody>\n",
       "    <tr>\n",
       "      <th>0</th>\n",
       "      <td>0</td>\n",
       "      <td>2</td>\n",
       "      <td>19</td>\n",
       "      <td>Адыгея ТЦ \"Мега\"</td>\n",
       "      <td>Адыгея</td>\n",
       "      <td>/ЗОЛОТАЯ КОЛЛЕКЦИЯ м/ф-72</td>\n",
       "      <td>40</td>\n",
       "      <td>Кино - DVD</td>\n",
       "      <td>999.00</td>\n",
       "      <td>0.00</td>\n",
       "    </tr>\n",
       "    <tr>\n",
       "      <th>1</th>\n",
       "      <td>0</td>\n",
       "      <td>2</td>\n",
       "      <td>27</td>\n",
       "      <td>Адыгея ТЦ \"Мега\"</td>\n",
       "      <td>Адыгея</td>\n",
       "      <td>007 Legends [PS3, русская версия]</td>\n",
       "      <td>19</td>\n",
       "      <td>Игры - PS3</td>\n",
       "      <td>899.00</td>\n",
       "      <td>1.00</td>\n",
       "    </tr>\n",
       "  </tbody>\n",
       "</table>\n",
       "</div>"
      ],
      "text/plain": [
       "   date_block_num  shop_id  item_id         shop_name    city  \\\n",
       "0               0        2       19  Адыгея ТЦ \"Мега\"  Адыгея   \n",
       "1               0        2       27  Адыгея ТЦ \"Мега\"  Адыгея   \n",
       "\n",
       "                           item_name  item_category_id item_category_name  \\\n",
       "0          /ЗОЛОТАЯ КОЛЛЕКЦИЯ м/ф-72                40         Кино - DVD   \n",
       "1  007 Legends [PS3, русская версия]                19         Игры - PS3   \n",
       "\n",
       "   profit  item_cnt_month  \n",
       "0  999.00            0.00  \n",
       "1  899.00            1.00  "
      ]
     },
     "execution_count": 63,
     "metadata": {},
     "output_type": "execute_result"
    }
   ],
   "source": [
    "%%time\n",
    "# add count of sold items per month\n",
    "group = data['sales_train'].groupby([\"date_block_num\", \"shop_id\", \"item_id\"]).agg({\"item_cnt_day\": [\"sum\"]})\n",
    "group.columns = [\"item_cnt_month\"]\n",
    "group.reset_index(inplace = True)\n",
    "pretrained_data = pd.merge(pretrained_data, group, on = cols, how = \"left\")\n",
    "pretrained_data[\"item_cnt_month\"] = pretrained_data[\"item_cnt_month\"].fillna(0)\n",
    "pretrained_data.head(2)"
   ]
  },
  {
   "cell_type": "markdown",
   "id": "656f8269",
   "metadata": {},
   "source": [
    "###### Substruct some categories from string data "
   ]
  },
  {
   "cell_type": "code",
   "execution_count": 64,
   "id": "e416406b",
   "metadata": {},
   "outputs": [
    {
     "name": "stdout",
     "output_type": "stream",
     "text": [
      "CPU times: total: 18.4 s\n",
      "Wall time: 19.1 s\n"
     ]
    },
    {
     "data": {
      "text/html": [
       "<div>\n",
       "<style scoped>\n",
       "    .dataframe tbody tr th:only-of-type {\n",
       "        vertical-align: middle;\n",
       "    }\n",
       "\n",
       "    .dataframe tbody tr th {\n",
       "        vertical-align: top;\n",
       "    }\n",
       "\n",
       "    .dataframe thead th {\n",
       "        text-align: right;\n",
       "    }\n",
       "</style>\n",
       "<table border=\"1\" class=\"dataframe\">\n",
       "  <thead>\n",
       "    <tr style=\"text-align: right;\">\n",
       "      <th></th>\n",
       "      <th>date_block_num</th>\n",
       "      <th>shop_id</th>\n",
       "      <th>item_id</th>\n",
       "      <th>shop_name</th>\n",
       "      <th>city</th>\n",
       "      <th>item_name</th>\n",
       "      <th>item_category_id</th>\n",
       "      <th>profit</th>\n",
       "      <th>item_cnt_month</th>\n",
       "      <th>type_code</th>\n",
       "      <th>subtype_code</th>\n",
       "    </tr>\n",
       "  </thead>\n",
       "  <tbody>\n",
       "    <tr>\n",
       "      <th>0</th>\n",
       "      <td>0</td>\n",
       "      <td>2</td>\n",
       "      <td>19</td>\n",
       "      <td>Адыгея ТЦ \"Мега\"</td>\n",
       "      <td>Адыгея</td>\n",
       "      <td>/ЗОЛОТАЯ КОЛЛЕКЦИЯ м/ф-72</td>\n",
       "      <td>40</td>\n",
       "      <td>999.00</td>\n",
       "      <td>0.00</td>\n",
       "      <td>7</td>\n",
       "      <td>4</td>\n",
       "    </tr>\n",
       "    <tr>\n",
       "      <th>1</th>\n",
       "      <td>0</td>\n",
       "      <td>2</td>\n",
       "      <td>27</td>\n",
       "      <td>Адыгея ТЦ \"Мега\"</td>\n",
       "      <td>Адыгея</td>\n",
       "      <td>007 Legends [PS3, русская версия]</td>\n",
       "      <td>19</td>\n",
       "      <td>899.00</td>\n",
       "      <td>1.00</td>\n",
       "      <td>5</td>\n",
       "      <td>10</td>\n",
       "    </tr>\n",
       "  </tbody>\n",
       "</table>\n",
       "</div>"
      ],
      "text/plain": [
       "   date_block_num  shop_id  item_id         shop_name    city  \\\n",
       "0               0        2       19  Адыгея ТЦ \"Мега\"  Адыгея   \n",
       "1               0        2       27  Адыгея ТЦ \"Мега\"  Адыгея   \n",
       "\n",
       "                           item_name  item_category_id  profit  \\\n",
       "0          /ЗОЛОТАЯ КОЛЛЕКЦИЯ м/ф-72                40  999.00   \n",
       "1  007 Legends [PS3, русская версия]                19  899.00   \n",
       "\n",
       "   item_cnt_month  type_code  subtype_code  \n",
       "0            0.00          7             4  \n",
       "1            1.00          5            10  "
      ]
     },
     "execution_count": 64,
     "metadata": {},
     "output_type": "execute_result"
    }
   ],
   "source": [
    "%%time\n",
    "# item categories data\n",
    "pretrained_data[\"type_code\"] = pretrained_data.item_category_name.apply(lambda x: x.split(\" \")[0]).astype(str)\n",
    "pretrained_data.type_code = LabelEncoder().fit_transform(pretrained_data.type_code)\n",
    "pretrained_data[\"split\"] = pretrained_data.item_category_name.apply(lambda x: x.split(\"-\"))\n",
    "pretrained_data[\"subtype\"] = pretrained_data.split.apply(lambda x: x[1].strip() if len(x) > 1 else x[0].strip())\n",
    "pretrained_data[\"subtype_code\"] = LabelEncoder().fit_transform(pretrained_data[\"subtype\"])\n",
    "pretrained_data = pretrained_data.drop(columns=['item_category_name', 'split', 'subtype'])\n",
    "pretrained_data.head(2)"
   ]
  },
  {
   "cell_type": "code",
   "execution_count": 65,
   "id": "8b765920",
   "metadata": {},
   "outputs": [
    {
     "name": "stdout",
     "output_type": "stream",
     "text": [
      "CPU times: total: 23.8 s\n",
      "Wall time: 24.3 s\n"
     ]
    },
    {
     "data": {
      "text/html": [
       "<div>\n",
       "<style scoped>\n",
       "    .dataframe tbody tr th:only-of-type {\n",
       "        vertical-align: middle;\n",
       "    }\n",
       "\n",
       "    .dataframe tbody tr th {\n",
       "        vertical-align: top;\n",
       "    }\n",
       "\n",
       "    .dataframe thead th {\n",
       "        text-align: right;\n",
       "    }\n",
       "</style>\n",
       "<table border=\"1\" class=\"dataframe\">\n",
       "  <thead>\n",
       "    <tr style=\"text-align: right;\">\n",
       "      <th></th>\n",
       "      <th>date_block_num</th>\n",
       "      <th>shop_id</th>\n",
       "      <th>item_id</th>\n",
       "      <th>item_name</th>\n",
       "      <th>item_category_id</th>\n",
       "      <th>profit</th>\n",
       "      <th>item_cnt_month</th>\n",
       "      <th>type_code</th>\n",
       "      <th>subtype_code</th>\n",
       "      <th>shop_city</th>\n",
       "      <th>shop_category</th>\n",
       "    </tr>\n",
       "  </thead>\n",
       "  <tbody>\n",
       "    <tr>\n",
       "      <th>0</th>\n",
       "      <td>0</td>\n",
       "      <td>2</td>\n",
       "      <td>19</td>\n",
       "      <td>/ЗОЛОТАЯ КОЛЛЕКЦИЯ м/ф-72</td>\n",
       "      <td>40</td>\n",
       "      <td>999.00</td>\n",
       "      <td>0.00</td>\n",
       "      <td>7</td>\n",
       "      <td>4</td>\n",
       "      <td>0</td>\n",
       "      <td>8</td>\n",
       "    </tr>\n",
       "    <tr>\n",
       "      <th>1</th>\n",
       "      <td>0</td>\n",
       "      <td>2</td>\n",
       "      <td>27</td>\n",
       "      <td>007 Legends [PS3, русская версия]</td>\n",
       "      <td>19</td>\n",
       "      <td>899.00</td>\n",
       "      <td>1.00</td>\n",
       "      <td>5</td>\n",
       "      <td>10</td>\n",
       "      <td>0</td>\n",
       "      <td>8</td>\n",
       "    </tr>\n",
       "  </tbody>\n",
       "</table>\n",
       "</div>"
      ],
      "text/plain": [
       "   date_block_num  shop_id  item_id                          item_name  \\\n",
       "0               0        2       19          /ЗОЛОТАЯ КОЛЛЕКЦИЯ м/ф-72   \n",
       "1               0        2       27  007 Legends [PS3, русская версия]   \n",
       "\n",
       "   item_category_id  profit  item_cnt_month  type_code  subtype_code  \\\n",
       "0                40  999.00            0.00          7             4   \n",
       "1                19  899.00            1.00          5            10   \n",
       "\n",
       "   shop_city  shop_category  \n",
       "0          0              8  \n",
       "1          0              8  "
      ]
     },
     "execution_count": 65,
     "metadata": {},
     "output_type": "execute_result"
    }
   ],
   "source": [
    "%%time\n",
    "# shops data\n",
    "pretrained_data[\"shop_city\"] = pretrained_data.shop_name.str.split(\" \").map(lambda x: x[0])\n",
    "pretrained_data[\"shop_category\"] = pretrained_data.shop_name.str.split(\" \").map(lambda x: x[1])\n",
    "pretrained_data[\"shop_category\"] = LabelEncoder().fit_transform(pretrained_data.shop_category)\n",
    "pretrained_data[\"shop_city\"] = LabelEncoder().fit_transform(pretrained_data.shop_city)\n",
    "pretrained_data = pretrained_data.drop(columns=['shop_name', 'city'])\n",
    "pretrained_data.head(2)"
   ]
  },
  {
   "cell_type": "code",
   "execution_count": 66,
   "id": "45e0db08",
   "metadata": {},
   "outputs": [
    {
     "name": "stdout",
     "output_type": "stream",
     "text": [
      "CPU times: total: 43.9 s\n",
      "Wall time: 45.4 s\n"
     ]
    },
    {
     "data": {
      "text/html": [
       "<div>\n",
       "<style scoped>\n",
       "    .dataframe tbody tr th:only-of-type {\n",
       "        vertical-align: middle;\n",
       "    }\n",
       "\n",
       "    .dataframe tbody tr th {\n",
       "        vertical-align: top;\n",
       "    }\n",
       "\n",
       "    .dataframe thead th {\n",
       "        text-align: right;\n",
       "    }\n",
       "</style>\n",
       "<table border=\"1\" class=\"dataframe\">\n",
       "  <thead>\n",
       "    <tr style=\"text-align: right;\">\n",
       "      <th></th>\n",
       "      <th>date_block_num</th>\n",
       "      <th>shop_id</th>\n",
       "      <th>item_id</th>\n",
       "      <th>item_category_id</th>\n",
       "      <th>profit</th>\n",
       "      <th>item_cnt_month</th>\n",
       "      <th>type_code</th>\n",
       "      <th>subtype_code</th>\n",
       "      <th>shop_city</th>\n",
       "      <th>shop_category</th>\n",
       "      <th>name2</th>\n",
       "      <th>name3</th>\n",
       "    </tr>\n",
       "  </thead>\n",
       "  <tbody>\n",
       "    <tr>\n",
       "      <th>0</th>\n",
       "      <td>0</td>\n",
       "      <td>2</td>\n",
       "      <td>19</td>\n",
       "      <td>40</td>\n",
       "      <td>999.00</td>\n",
       "      <td>0.00</td>\n",
       "      <td>7</td>\n",
       "      <td>4</td>\n",
       "      <td>0</td>\n",
       "      <td>8</td>\n",
       "      <td>5</td>\n",
       "      <td>40</td>\n",
       "    </tr>\n",
       "    <tr>\n",
       "      <th>1</th>\n",
       "      <td>0</td>\n",
       "      <td>2</td>\n",
       "      <td>27</td>\n",
       "      <td>19</td>\n",
       "      <td>899.00</td>\n",
       "      <td>1.00</td>\n",
       "      <td>5</td>\n",
       "      <td>10</td>\n",
       "      <td>0</td>\n",
       "      <td>8</td>\n",
       "      <td>77</td>\n",
       "      <td>40</td>\n",
       "    </tr>\n",
       "  </tbody>\n",
       "</table>\n",
       "</div>"
      ],
      "text/plain": [
       "   date_block_num  shop_id  item_id  item_category_id profit  item_cnt_month  \\\n",
       "0               0        2       19                40 999.00            0.00   \n",
       "1               0        2       27                19 899.00            1.00   \n",
       "\n",
       "   type_code  subtype_code  shop_city  shop_category  name2  name3  \n",
       "0          7             4          0              8      5     40  \n",
       "1          5            10          0              8     77     40  "
      ]
     },
     "execution_count": 66,
     "metadata": {},
     "output_type": "execute_result"
    }
   ],
   "source": [
    "%%time\n",
    "# item data\n",
    "pretrained_data[\"name1\"], pretrained_data[\"name2\"] = pretrained_data.item_name.str.split('[', n=1).str[0], pretrained_data.item_name.str.split('[', n=1).str[1]\n",
    "pretrained_data[\"name1\"], pretrained_data[\"name3\"] = pretrained_data.item_name.str.split('(', n=1).str[0], pretrained_data.item_name.str.split('(', n=1).str[1]\n",
    "\n",
    "# replace special characters and turn to lower case\n",
    "pretrained_data[\"name2\"] = pretrained_data.name2.str.replace('[^A-Za-z0-9А-Яа-я]+', \" \").str.lower()\n",
    "pretrained_data[\"name3\"] = pretrained_data.name3.str.replace('[^A-Za-z0-9А-Яа-я]+', \" \").str.lower()\n",
    "\n",
    "pretrained_data = pretrained_data.fillna('0')\n",
    "\n",
    "pretrained_data.name2 = LabelEncoder().fit_transform(pretrained_data.name2)\n",
    "pretrained_data.name3 = LabelEncoder().fit_transform(pretrained_data.name3)\n",
    "\n",
    "pretrained_data = pretrained_data.drop(columns=['name1', 'item_name']) \n",
    "pretrained_data.head(2)"
   ]
  },
  {
   "cell_type": "code",
   "execution_count": 67,
   "id": "57001d72",
   "metadata": {},
   "outputs": [
    {
     "name": "stdout",
     "output_type": "stream",
     "text": [
      "Mem. usage decreased to 239.15 Mb (51.1% reduction)\n"
     ]
    }
   ],
   "source": [
    "pretrained_data = reduce_mem_usage(pretrained_data)"
   ]
  },
  {
   "cell_type": "markdown",
   "id": "f21d2309",
   "metadata": {},
   "source": [
    "###### time series features"
   ]
  },
  {
   "cell_type": "code",
   "execution_count": 68,
   "id": "52f3911c",
   "metadata": {},
   "outputs": [],
   "source": [
    "# def extract_lag_feature(df, lags, col):\n",
    "#     tmp = df[['date_block_num', 'shop_id', 'item_id', col]]\n",
    "#     for i in lags:\n",
    "#         shifted = tmp.copy()\n",
    "#         shifted.columns = ['date_block_num','shop_id','item_id', col+'_lag_'+str(i)]\n",
    "#         shifted['date_block_num'] += i\n",
    "#         df = pd.merge(df, shifted, on=['date_block_num','shop_id','item_id'], how='left')\n",
    "#     return df"
   ]
  },
  {
   "cell_type": "code",
   "execution_count": 69,
   "id": "52e963a6",
   "metadata": {},
   "outputs": [],
   "source": [
    "# %%time\n",
    "# # item count per month lag\n",
    "# pretrained_data = extract_lag_feature(pretrained_data, [1], 'item_cnt_month')\n",
    "# pretrained_data.tail(2)"
   ]
  },
  {
   "cell_type": "code",
   "execution_count": 70,
   "id": "1f474cdc",
   "metadata": {},
   "outputs": [],
   "source": [
    "# %%time\n",
    "# # lag of average item count sales per month \n",
    "\n",
    "# group = pretrained_data.groupby([\"date_block_num\"] ).agg({\"item_cnt_month\" : \"mean\"})\n",
    "# group.columns = [\"avg_by_month_item_cnt\"]\n",
    "# group.reset_index()\n",
    "\n",
    "\n",
    "# pretrained_data = pd.merge(pretrained_data, group, on = [\"date_block_num\"], how = \"left\")\n",
    "# del(group)\n",
    "# pretrained_data = extract_lag_feature(pretrained_data, [1], \"avg_by_month_item_cnt\")\n",
    "# pretrained_data.drop([\"avg_by_month_item_cnt\"], axis = 1, inplace = True)\n",
    "# pretrained_data.tail(2)"
   ]
  },
  {
   "cell_type": "code",
   "execution_count": 71,
   "id": "f484f2e1",
   "metadata": {},
   "outputs": [],
   "source": [
    "# %%time\n",
    "# # lag of average item sales per month of each item_id\n",
    "\n",
    "# group = pretrained_data.groupby(['date_block_num', 'item_id']).agg({'item_cnt_month': 'mean'})\n",
    "# group.columns = ['avg_by_month_item_id_item_cnt']\n",
    "# group = group.reset_index()\n",
    "\n",
    "\n",
    "# pretrained_data = pd.merge(pretrained_data, group, on=['date_block_num', 'item_id'], how='left')\n",
    "# del(group)\n",
    "# pretrained_data = extract_lag_feature(pretrained_data, [1], \"avg_by_month_item_id_item_cnt\")\n",
    "# pretrained_data.drop(columns = ['avg_by_month_item_id_item_cnt'], axis = 1, inplace = True)\n",
    "# pretrained_data.tail(2)"
   ]
  },
  {
   "cell_type": "code",
   "execution_count": 72,
   "id": "6d8087d6",
   "metadata": {},
   "outputs": [],
   "source": [
    "# %%time\n",
    "# # lag of average item sales per month of each shop\n",
    "\n",
    "# group = pretrained_data.groupby(['date_block_num', 'shop_id']).agg({'item_cnt_month': 'mean'})\n",
    "# group.columns = ['avg_by_month_shop_item_cnt']\n",
    "# group = group.reset_index()\n",
    "\n",
    "# pretrained_data = pd.merge(pretrained_data, group, on=['date_block_num', 'shop_id'], how='left')\n",
    "\n",
    "# pretrained_data = extract_lag_feature(pretrained_data, [1], \"avg_by_month_shop_item_cnt\")\n",
    "# pretrained_data.drop(columns = ['avg_by_month_shop_item_cnt'], axis = 1, inplace = True)\n",
    "# pretrained_data.tail(2)"
   ]
  },
  {
   "cell_type": "code",
   "execution_count": 73,
   "id": "536b5abe",
   "metadata": {},
   "outputs": [],
   "source": [
    "# %%time\n",
    "# # lag of average item sales per month of each city\n",
    "\n",
    "# group = pretrained_data.groupby(['date_block_num', 'shop_city']).agg({'item_cnt_month': 'mean'})\n",
    "# group.columns = ['avg_by_month_city_item_cnt']\n",
    "# group = group.reset_index()\n",
    "\n",
    "\n",
    "# pretrained_data = pd.merge(pretrained_data, group, on=['date_block_num', 'shop_city'], how='left')\n",
    "# del(group)\n",
    "# pretrained_data = extract_lag_feature( pretrained_data, [1], \"avg_by_month_city_item_cnt\" )\n",
    "# pretrained_data.drop(columns = ['avg_by_month_city_item_cnt'], axis = 1, inplace = True)\n",
    "# pretrained_data.tail(2)"
   ]
  },
  {
   "cell_type": "code",
   "execution_count": 74,
   "id": "e974248a",
   "metadata": {},
   "outputs": [],
   "source": [
    "# %%time\n",
    "# # lag of average item sales per month of each category\n",
    "\n",
    "# group = pretrained_data.groupby(['date_block_num', 'item_category_id']).agg({'item_cnt_month': 'mean'})\n",
    "# group.columns = ['avg_by_month_cat_item_cnt']\n",
    "# group = group.reset_index()\n",
    "\n",
    "\n",
    "# pretrained_data = pd.merge(pretrained_data, group, on=['date_block_num', 'item_category_id'], how='left')\n",
    "# del(group)\n",
    "# pretrained_data = extract_lag_feature(pretrained_data, [1], \"avg_by_month_cat_item_cnt\")\n",
    "# pretrained_data.drop(columns = ['avg_by_month_cat_item_cnt'], axis = 1, inplace = True)\n",
    "# pretrained_data.tail(2)"
   ]
  },
  {
   "cell_type": "code",
   "execution_count": 75,
   "id": "4230003c",
   "metadata": {},
   "outputs": [],
   "source": [
    "# %%time\n",
    "# # price mean grouped by item_id\n",
    "\n",
    "# group = data['sales_train'].groupby(['item_id']).agg({'item_price': ['mean']})\n",
    "# group.columns = ['avg_item_price']\n",
    "# group.reset_index(inplace=True)\n",
    "\n",
    "# pretrained_data = pd.merge(pretrained_data, group, on=['item_id'], how='left')\n",
    "# del(group)\n",
    "\n",
    "# # add price mean grouped by month and item_id\n",
    "# group = data['sales_train'].groupby(['date_block_num','item_id']).agg({'item_price': ['mean']})\n",
    "# group.columns = ['avg_item_price_month']\n",
    "# group.reset_index(inplace=True)\n",
    "\n",
    "# pretrained_data = pd.merge(pretrained_data, group, on=['date_block_num','item_id'], how='left')\n",
    "# del(group)\n",
    "# pretrained_data.tail(2)"
   ]
  },
  {
   "cell_type": "code",
   "execution_count": 76,
   "id": "0d8b41a3",
   "metadata": {},
   "outputs": [],
   "source": [
    "# def select_trends(row) :\n",
    "#     for i in lags:\n",
    "#         if row[\"delta_price_lag_\" + str(i)]:\n",
    "#             return row[\"delta_price_lag_\" + str(i)]\n",
    "#     return 0"
   ]
  },
  {
   "cell_type": "code",
   "execution_count": 77,
   "id": "8e6ea0bd",
   "metadata": {},
   "outputs": [],
   "source": [
    "# # calculate lag of month column to provide price for test set\n",
    "# lags = [1]\n",
    "# pretrained_data = extract_lag_feature(pretrained_data, lags, \"avg_item_price_month\")\n",
    "# pretrained_data.tail()"
   ]
  },
  {
   "cell_type": "code",
   "execution_count": 78,
   "id": "4f9557f6",
   "metadata": {},
   "outputs": [],
   "source": [
    "# # calculation of lag of month column to provide price for test set (change of sales of item/price by month)\n",
    "# for i in lags:\n",
    "#     pretrained_data[\"delta_price_lag_\" + str(i) ] = (pretrained_data[\"avg_item_price_month_lag_\" + str(i)]\\\n",
    "#                                                      - pretrained_data[\"avg_item_price\"] )\\\n",
    "#                                                      / pretrained_data[\"avg_item_price\"]\n",
    "\n",
    "# pretrained_data[\"delta_price_lag\"] = pretrained_data.apply(select_trends, axis = 1)\n",
    "# pretrained_data[\"delta_price_lag\"].fillna(0, inplace = True)\n",
    "\n",
    "# features_to_drop = [\"avg_item_price_month\", \"avg_item_price\"]\n",
    "# for i in lags:\n",
    "#     features_to_drop.append(\"avg_item_price_month_lag_\" + str(i))\n",
    "#     features_to_drop.append(\"delta_price_lag_\" + str(i))\n",
    "# pretrained_data.drop(features_to_drop, axis = 1, inplace = True)\n",
    "# pretrained_data.tail(2)"
   ]
  },
  {
   "cell_type": "markdown",
   "id": "e30ddcb7",
   "metadata": {},
   "source": [
    "###### Add clusters features"
   ]
  },
  {
   "cell_type": "code",
   "execution_count": 79,
   "id": "030c87e6",
   "metadata": {},
   "outputs": [
    {
     "name": "stdout",
     "output_type": "stream",
     "text": [
      "CPU times: total: 531 ms\n",
      "Wall time: 560 ms\n"
     ]
    }
   ],
   "source": [
    "%%time\n",
    "# categories clusterization\n",
    "pretrained_data = pd.merge(pretrained_data, cluster_data['item_category_clusters'], on='item_category_id', how='left')"
   ]
  },
  {
   "cell_type": "code",
   "execution_count": 83,
   "id": "0d127a69",
   "metadata": {},
   "outputs": [
    {
     "ename": "MemoryError",
     "evalue": "Unable to allocate 21.3 GiB for an array with shape (2857479640,) and data type int64",
     "output_type": "error",
     "traceback": [
      "\u001b[1;31m---------------------------------------------------------------------------\u001b[0m",
      "\u001b[1;31mMemoryError\u001b[0m                               Traceback (most recent call last)",
      "File \u001b[1;32m<timed exec>:2\u001b[0m\n",
      "File \u001b[1;32m~\\anaconda3\\Lib\\site-packages\\pandas\\core\\reshape\\merge.py:162\u001b[0m, in \u001b[0;36mmerge\u001b[1;34m(left, right, how, on, left_on, right_on, left_index, right_index, sort, suffixes, copy, indicator, validate)\u001b[0m\n\u001b[0;32m    131\u001b[0m \u001b[38;5;129m@Substitution\u001b[39m(\u001b[38;5;124m\"\u001b[39m\u001b[38;5;130;01m\\n\u001b[39;00m\u001b[38;5;124mleft : DataFrame or named Series\u001b[39m\u001b[38;5;124m\"\u001b[39m)\n\u001b[0;32m    132\u001b[0m \u001b[38;5;129m@Appender\u001b[39m(_merge_doc, indents\u001b[38;5;241m=\u001b[39m\u001b[38;5;241m0\u001b[39m)\n\u001b[0;32m    133\u001b[0m \u001b[38;5;28;01mdef\u001b[39;00m \u001b[38;5;21mmerge\u001b[39m(\n\u001b[1;32m   (...)\u001b[0m\n\u001b[0;32m    146\u001b[0m     validate: \u001b[38;5;28mstr\u001b[39m \u001b[38;5;241m|\u001b[39m \u001b[38;5;28;01mNone\u001b[39;00m \u001b[38;5;241m=\u001b[39m \u001b[38;5;28;01mNone\u001b[39;00m,\n\u001b[0;32m    147\u001b[0m ) \u001b[38;5;241m-\u001b[39m\u001b[38;5;241m>\u001b[39m DataFrame:\n\u001b[0;32m    148\u001b[0m     op \u001b[38;5;241m=\u001b[39m _MergeOperation(\n\u001b[0;32m    149\u001b[0m         left,\n\u001b[0;32m    150\u001b[0m         right,\n\u001b[1;32m   (...)\u001b[0m\n\u001b[0;32m    160\u001b[0m         validate\u001b[38;5;241m=\u001b[39mvalidate,\n\u001b[0;32m    161\u001b[0m     )\n\u001b[1;32m--> 162\u001b[0m     \u001b[38;5;28;01mreturn\u001b[39;00m op\u001b[38;5;241m.\u001b[39mget_result(copy\u001b[38;5;241m=\u001b[39mcopy)\n",
      "File \u001b[1;32m~\\anaconda3\\Lib\\site-packages\\pandas\\core\\reshape\\merge.py:809\u001b[0m, in \u001b[0;36m_MergeOperation.get_result\u001b[1;34m(self, copy)\u001b[0m\n\u001b[0;32m    806\u001b[0m \u001b[38;5;28;01mif\u001b[39;00m \u001b[38;5;28mself\u001b[39m\u001b[38;5;241m.\u001b[39mindicator:\n\u001b[0;32m    807\u001b[0m     \u001b[38;5;28mself\u001b[39m\u001b[38;5;241m.\u001b[39mleft, \u001b[38;5;28mself\u001b[39m\u001b[38;5;241m.\u001b[39mright \u001b[38;5;241m=\u001b[39m \u001b[38;5;28mself\u001b[39m\u001b[38;5;241m.\u001b[39m_indicator_pre_merge(\u001b[38;5;28mself\u001b[39m\u001b[38;5;241m.\u001b[39mleft, \u001b[38;5;28mself\u001b[39m\u001b[38;5;241m.\u001b[39mright)\n\u001b[1;32m--> 809\u001b[0m join_index, left_indexer, right_indexer \u001b[38;5;241m=\u001b[39m \u001b[38;5;28mself\u001b[39m\u001b[38;5;241m.\u001b[39m_get_join_info()\n\u001b[0;32m    811\u001b[0m result \u001b[38;5;241m=\u001b[39m \u001b[38;5;28mself\u001b[39m\u001b[38;5;241m.\u001b[39m_reindex_and_concat(\n\u001b[0;32m    812\u001b[0m     join_index, left_indexer, right_indexer, copy\u001b[38;5;241m=\u001b[39mcopy\n\u001b[0;32m    813\u001b[0m )\n\u001b[0;32m    814\u001b[0m result \u001b[38;5;241m=\u001b[39m result\u001b[38;5;241m.\u001b[39m__finalize__(\u001b[38;5;28mself\u001b[39m, method\u001b[38;5;241m=\u001b[39m\u001b[38;5;28mself\u001b[39m\u001b[38;5;241m.\u001b[39m_merge_type)\n",
      "File \u001b[1;32m~\\anaconda3\\Lib\\site-packages\\pandas\\core\\reshape\\merge.py:1065\u001b[0m, in \u001b[0;36m_MergeOperation._get_join_info\u001b[1;34m(self)\u001b[0m\n\u001b[0;32m   1061\u001b[0m     join_index, right_indexer, left_indexer \u001b[38;5;241m=\u001b[39m _left_join_on_index(\n\u001b[0;32m   1062\u001b[0m         right_ax, left_ax, \u001b[38;5;28mself\u001b[39m\u001b[38;5;241m.\u001b[39mright_join_keys, sort\u001b[38;5;241m=\u001b[39m\u001b[38;5;28mself\u001b[39m\u001b[38;5;241m.\u001b[39msort\n\u001b[0;32m   1063\u001b[0m     )\n\u001b[0;32m   1064\u001b[0m \u001b[38;5;28;01melse\u001b[39;00m:\n\u001b[1;32m-> 1065\u001b[0m     (left_indexer, right_indexer) \u001b[38;5;241m=\u001b[39m \u001b[38;5;28mself\u001b[39m\u001b[38;5;241m.\u001b[39m_get_join_indexers()\n\u001b[0;32m   1067\u001b[0m     \u001b[38;5;28;01mif\u001b[39;00m \u001b[38;5;28mself\u001b[39m\u001b[38;5;241m.\u001b[39mright_index:\n\u001b[0;32m   1068\u001b[0m         \u001b[38;5;28;01mif\u001b[39;00m \u001b[38;5;28mlen\u001b[39m(\u001b[38;5;28mself\u001b[39m\u001b[38;5;241m.\u001b[39mleft) \u001b[38;5;241m>\u001b[39m \u001b[38;5;241m0\u001b[39m:\n",
      "File \u001b[1;32m~\\anaconda3\\Lib\\site-packages\\pandas\\core\\reshape\\merge.py:1038\u001b[0m, in \u001b[0;36m_MergeOperation._get_join_indexers\u001b[1;34m(self)\u001b[0m\n\u001b[0;32m   1036\u001b[0m \u001b[38;5;28;01mdef\u001b[39;00m \u001b[38;5;21m_get_join_indexers\u001b[39m(\u001b[38;5;28mself\u001b[39m) \u001b[38;5;241m-\u001b[39m\u001b[38;5;241m>\u001b[39m \u001b[38;5;28mtuple\u001b[39m[npt\u001b[38;5;241m.\u001b[39mNDArray[np\u001b[38;5;241m.\u001b[39mintp], npt\u001b[38;5;241m.\u001b[39mNDArray[np\u001b[38;5;241m.\u001b[39mintp]]:\n\u001b[0;32m   1037\u001b[0m \u001b[38;5;250m    \u001b[39m\u001b[38;5;124;03m\"\"\"return the join indexers\"\"\"\u001b[39;00m\n\u001b[1;32m-> 1038\u001b[0m     \u001b[38;5;28;01mreturn\u001b[39;00m get_join_indexers(\n\u001b[0;32m   1039\u001b[0m         \u001b[38;5;28mself\u001b[39m\u001b[38;5;241m.\u001b[39mleft_join_keys, \u001b[38;5;28mself\u001b[39m\u001b[38;5;241m.\u001b[39mright_join_keys, sort\u001b[38;5;241m=\u001b[39m\u001b[38;5;28mself\u001b[39m\u001b[38;5;241m.\u001b[39msort, how\u001b[38;5;241m=\u001b[39m\u001b[38;5;28mself\u001b[39m\u001b[38;5;241m.\u001b[39mhow\n\u001b[0;32m   1040\u001b[0m     )\n",
      "File \u001b[1;32m~\\anaconda3\\Lib\\site-packages\\pandas\\core\\reshape\\merge.py:1690\u001b[0m, in \u001b[0;36mget_join_indexers\u001b[1;34m(left_keys, right_keys, sort, how, **kwargs)\u001b[0m\n\u001b[0;32m   1680\u001b[0m join_func \u001b[38;5;241m=\u001b[39m {\n\u001b[0;32m   1681\u001b[0m     \u001b[38;5;124m\"\u001b[39m\u001b[38;5;124minner\u001b[39m\u001b[38;5;124m\"\u001b[39m: libjoin\u001b[38;5;241m.\u001b[39minner_join,\n\u001b[0;32m   1682\u001b[0m     \u001b[38;5;124m\"\u001b[39m\u001b[38;5;124mleft\u001b[39m\u001b[38;5;124m\"\u001b[39m: libjoin\u001b[38;5;241m.\u001b[39mleft_outer_join,\n\u001b[1;32m   (...)\u001b[0m\n\u001b[0;32m   1686\u001b[0m     \u001b[38;5;124m\"\u001b[39m\u001b[38;5;124mouter\u001b[39m\u001b[38;5;124m\"\u001b[39m: libjoin\u001b[38;5;241m.\u001b[39mfull_outer_join,\n\u001b[0;32m   1687\u001b[0m }[how]\n\u001b[0;32m   1689\u001b[0m \u001b[38;5;66;03m# error: Cannot call function of unknown type\u001b[39;00m\n\u001b[1;32m-> 1690\u001b[0m \u001b[38;5;28;01mreturn\u001b[39;00m join_func(lkey, rkey, count, \u001b[38;5;241m*\u001b[39m\u001b[38;5;241m*\u001b[39mkwargs)\n",
      "File \u001b[1;32m~\\anaconda3\\Lib\\site-packages\\pandas\\_libs\\join.pyx:142\u001b[0m, in \u001b[0;36mpandas._libs.join.left_outer_join\u001b[1;34m()\u001b[0m\n",
      "File \u001b[1;32m~\\anaconda3\\Lib\\site-packages\\pandas\\_libs\\algos.pyx:238\u001b[0m, in \u001b[0;36mpandas._libs.algos.groupsort_indexer\u001b[1;34m()\u001b[0m\n",
      "\u001b[1;31mMemoryError\u001b[0m: Unable to allocate 21.3 GiB for an array with shape (2857479640,) and data type int64"
     ]
    }
   ],
   "source": [
    "%%time\n",
    "# price clusterization\n",
    "pretrained_data = pd.merge(pretrained_data, cluster_data['item_price_clusters'], on='item_id', how='left')"
   ]
  },
  {
   "cell_type": "code",
   "execution_count": null,
   "id": "0e022ca8",
   "metadata": {},
   "outputs": [],
   "source": [
    "%%time\n",
    "# shop clusterization\n",
    "pretrained_data = pd.merge(pretrained_data, cluster_data['shop_clusters'], on='shop_id', how='left')"
   ]
  },
  {
   "cell_type": "markdown",
   "id": "beef3606",
   "metadata": {},
   "source": [
    "###### Other usefull features"
   ]
  },
  {
   "cell_type": "code",
   "execution_count": null,
   "id": "3dca814e",
   "metadata": {},
   "outputs": [],
   "source": [
    "# # dates of fisrt sale for each shop and for each item\n",
    "# pretrained_data['item_shop_first_sale'] = pretrained_data['date_block_num'] - pretrained_data.groupby(['item_id','shop_id'])['date_block_num'].transform('min')\n",
    "# pretrained_data['item_first_sale'] = pretrained_data['date_block_num'] - pretrained_data.groupby('item_id')['date_block_num'].transform('min')"
   ]
  },
  {
   "cell_type": "code",
   "execution_count": 81,
   "id": "2c47ec3d",
   "metadata": {},
   "outputs": [
    {
     "data": {
      "text/html": [
       "<div>\n",
       "<style scoped>\n",
       "    .dataframe tbody tr th:only-of-type {\n",
       "        vertical-align: middle;\n",
       "    }\n",
       "\n",
       "    .dataframe tbody tr th {\n",
       "        vertical-align: top;\n",
       "    }\n",
       "\n",
       "    .dataframe thead th {\n",
       "        text-align: right;\n",
       "    }\n",
       "</style>\n",
       "<table border=\"1\" class=\"dataframe\">\n",
       "  <thead>\n",
       "    <tr style=\"text-align: right;\">\n",
       "      <th></th>\n",
       "      <th>date_block_num</th>\n",
       "      <th>shop_id</th>\n",
       "      <th>item_id</th>\n",
       "      <th>item_category_id</th>\n",
       "      <th>profit</th>\n",
       "      <th>item_cnt_month</th>\n",
       "      <th>type_code</th>\n",
       "      <th>subtype_code</th>\n",
       "      <th>shop_city</th>\n",
       "      <th>shop_category</th>\n",
       "      <th>name2</th>\n",
       "      <th>name3</th>\n",
       "      <th>category_cluster_id</th>\n",
       "    </tr>\n",
       "  </thead>\n",
       "  <tbody>\n",
       "    <tr>\n",
       "      <th>10902922</th>\n",
       "      <td>33</td>\n",
       "      <td>59</td>\n",
       "      <td>22166</td>\n",
       "      <td>54</td>\n",
       "      <td>0</td>\n",
       "      <td>0.00</td>\n",
       "      <td>8</td>\n",
       "      <td>61</td>\n",
       "      <td>30</td>\n",
       "      <td>8</td>\n",
       "      <td>176</td>\n",
       "      <td>40</td>\n",
       "      <td>4</td>\n",
       "    </tr>\n",
       "    <tr>\n",
       "      <th>10902923</th>\n",
       "      <td>33</td>\n",
       "      <td>59</td>\n",
       "      <td>22167</td>\n",
       "      <td>49</td>\n",
       "      <td>0</td>\n",
       "      <td>0.00</td>\n",
       "      <td>8</td>\n",
       "      <td>39</td>\n",
       "      <td>30</td>\n",
       "      <td>8</td>\n",
       "      <td>5</td>\n",
       "      <td>27</td>\n",
       "      <td>4</td>\n",
       "    </tr>\n",
       "  </tbody>\n",
       "</table>\n",
       "</div>"
      ],
      "text/plain": [
       "          date_block_num  shop_id  item_id  item_category_id profit  \\\n",
       "10902922              33       59    22166                54      0   \n",
       "10902923              33       59    22167                49      0   \n",
       "\n",
       "          item_cnt_month  type_code  subtype_code  shop_city  shop_category  \\\n",
       "10902922            0.00          8            61         30              8   \n",
       "10902923            0.00          8            39         30              8   \n",
       "\n",
       "          name2  name3  category_cluster_id  \n",
       "10902922    176     40                    4  \n",
       "10902923      5     27                    4  "
      ]
     },
     "execution_count": 81,
     "metadata": {},
     "output_type": "execute_result"
    }
   ],
   "source": [
    "pretrained_data.tail(2)"
   ]
  },
  {
   "cell_type": "code",
   "execution_count": 82,
   "id": "44f4a46a",
   "metadata": {},
   "outputs": [
    {
     "name": "stdout",
     "output_type": "stream",
     "text": [
      "Mem. usage decreased to 249.55 Mb (22.6% reduction)\n"
     ]
    }
   ],
   "source": [
    "pretrained_data = reduce_mem_usage(pretrained_data)"
   ]
  },
  {
   "cell_type": "markdown",
   "id": "d318530f",
   "metadata": {},
   "source": [
    "###### Load train test data"
   ]
  },
  {
   "cell_type": "code",
   "execution_count": 84,
   "id": "aa65a5c5",
   "metadata": {},
   "outputs": [
    {
     "name": "stdout",
     "output_type": "stream",
     "text": [
      "CPU times: total: 26.3 s\n",
      "Wall time: 28.8 s\n"
     ]
    }
   ],
   "source": [
    "%%time\n",
    "train_data = {\n",
    "    'train_data' : pretrained_data,\n",
    "    'test_data' : data['test'],\n",
    "    'sample_submission' : data['sample_submission']\n",
    "}\n",
    "\n",
    "# add path to load to sys.path \n",
    "path_to_load = \"C:\\\\Repository\\\\DS-Intership-data\\\\train_test_data\\\\\"\n",
    "os.makedirs(path_to_load, exist_ok=True)\n",
    "sys.path.append(path_to_load)\n",
    "\n",
    "# load data \n",
    "for file, df in train_data.items():\n",
    "    df.to_csv(path_to_load+file+\".csv\")"
   ]
  },
  {
   "cell_type": "code",
   "execution_count": 85,
   "id": "ae689a4b",
   "metadata": {},
   "outputs": [
    {
     "name": "stdout",
     "output_type": "stream",
     "text": [
      "sample_submission.csv\n",
      " test_data.csv\n",
      " train_data.csv\n",
      "\n"
     ]
    }
   ],
   "source": [
    "from os import listdir\n",
    "from os.path import isfile, join\n",
    "print(*[f+\"\\n\" for f in listdir(path_to_load) if isfile(join(path_to_load, f))])"
   ]
  }
 ],
 "metadata": {
  "kernelspec": {
   "display_name": "Python 3 (ipykernel)",
   "language": "python",
   "name": "python3"
  },
  "language_info": {
   "codemirror_mode": {
    "name": "ipython",
    "version": 3
   },
   "file_extension": ".py",
   "mimetype": "text/x-python",
   "name": "python",
   "nbconvert_exporter": "python",
   "pygments_lexer": "ipython3",
   "version": "3.11.4"
  }
 },
 "nbformat": 4,
 "nbformat_minor": 5
}
