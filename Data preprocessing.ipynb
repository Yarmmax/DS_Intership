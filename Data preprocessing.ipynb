{
 "cells": [
  {
   "cell_type": "code",
   "execution_count": null,
   "id": "4f3493a0",
   "metadata": {},
   "outputs": [],
   "source": [
    "###### Load data"
   ]
  },
  {
   "cell_type": "code",
   "execution_count": null,
   "id": "319cd97e",
   "metadata": {},
   "outputs": [],
   "source": []
  },
  {
   "cell_type": "code",
   "execution_count": null,
   "id": "b533687f",
   "metadata": {},
   "outputs": [],
   "source": []
  },
  {
   "cell_type": "markdown",
   "id": "a7469ba2",
   "metadata": {},
   "source": [
    "### Data preproccesing"
   ]
  },
  {
   "cell_type": "code",
   "execution_count": 1,
   "id": "81903bb2",
   "metadata": {},
   "outputs": [],
   "source": [
    "###### Build pretrained data"
   ]
  },
  {
   "cell_type": "code",
   "execution_count": 2,
   "id": "6af7412a",
   "metadata": {},
   "outputs": [
    {
     "ename": "NameError",
     "evalue": "name 'data' is not defined",
     "output_type": "error",
     "traceback": [
      "\u001b[1;31m---------------------------------------------------------------------------\u001b[0m",
      "\u001b[1;31mNameError\u001b[0m                                 Traceback (most recent call last)",
      "Cell \u001b[1;32mIn[2], line 5\u001b[0m\n\u001b[0;32m      3\u001b[0m cols  \u001b[38;5;241m=\u001b[39m [\u001b[38;5;124m\"\u001b[39m\u001b[38;5;124mdate_block_num\u001b[39m\u001b[38;5;124m\"\u001b[39m, \u001b[38;5;124m\"\u001b[39m\u001b[38;5;124mshop_id\u001b[39m\u001b[38;5;124m\"\u001b[39m, \u001b[38;5;124m\"\u001b[39m\u001b[38;5;124mitem_id\u001b[39m\u001b[38;5;124m\"\u001b[39m]\n\u001b[0;32m      4\u001b[0m \u001b[38;5;28;01mfor\u001b[39;00m i \u001b[38;5;129;01min\u001b[39;00m \u001b[38;5;28mrange\u001b[39m(\u001b[38;5;241m34\u001b[39m):\n\u001b[1;32m----> 5\u001b[0m     sales \u001b[38;5;241m=\u001b[39m data[\u001b[38;5;124m'\u001b[39m\u001b[38;5;124msales_train\u001b[39m\u001b[38;5;124m'\u001b[39m][data[\u001b[38;5;124m'\u001b[39m\u001b[38;5;124msales_train\u001b[39m\u001b[38;5;124m'\u001b[39m]\u001b[38;5;241m.\u001b[39mdate_block_num \u001b[38;5;241m==\u001b[39m i]\n\u001b[0;32m      6\u001b[0m     pretrained_data\u001b[38;5;241m.\u001b[39mappend(np\u001b[38;5;241m.\u001b[39marray(\u001b[38;5;28mlist\u001b[39m(product([i], sales\u001b[38;5;241m.\u001b[39mshop_id\u001b[38;5;241m.\u001b[39munique(), sales\u001b[38;5;241m.\u001b[39mitem_id\u001b[38;5;241m.\u001b[39munique()))))\n\u001b[0;32m      8\u001b[0m pretrained_data \u001b[38;5;241m=\u001b[39m mpd\u001b[38;5;241m.\u001b[39mDataFrame(np\u001b[38;5;241m.\u001b[39mvstack(pretrained_data), columns \u001b[38;5;241m=\u001b[39m cols )\n",
      "\u001b[1;31mNameError\u001b[0m: name 'data' is not defined"
     ]
    }
   ],
   "source": [
    "# combinate month, shop and item in order of increasing month\n",
    "pretrained_data  = []\n",
    "cols  = [\"date_block_num\", \"shop_id\", \"item_id\"]\n",
    "for i in range(34):\n",
    "    sales = data['sales_train'][data['sales_train'].date_block_num == i]\n",
    "    pretrained_data.append(np.array(list(product([i], sales.shop_id.unique(), sales.item_id.unique()))))\n",
    "\n",
    "pretrained_data = mpd.DataFrame(np.vstack(pretrained_data), columns = cols )\n",
    "pretrained_data.sort_values(cols, inplace = True)\n",
    "\n",
    "# merge datasets for data preprocessing\n",
    "pretrained_data = mpd.merge(pretrained_data, data['shops'], on = [\"shop_id\"], how = \"left\" )\n",
    "pretrained_data = mpd.merge(pretrained_data, data['items'], on = [\"item_id\"], how = \"left\")\n",
    "pretrained_data = mpd.merge(pretrained_data, data['item_categories'], on = [\"item_category_id\"], how = \"left\" )"
   ]
  },
  {
   "cell_type": "code",
   "execution_count": 3,
   "id": "0abe6f83",
   "metadata": {},
   "outputs": [
    {
     "ename": "NameError",
     "evalue": "name 'data' is not defined",
     "output_type": "error",
     "traceback": [
      "\u001b[1;31m---------------------------------------------------------------------------\u001b[0m",
      "\u001b[1;31mNameError\u001b[0m                                 Traceback (most recent call last)",
      "Cell \u001b[1;32mIn[3], line 2\u001b[0m\n\u001b[0;32m      1\u001b[0m \u001b[38;5;66;03m# add profit from sales\u001b[39;00m\n\u001b[1;32m----> 2\u001b[0m pretrained_data[\u001b[38;5;124m\"\u001b[39m\u001b[38;5;124mprofit\u001b[39m\u001b[38;5;124m\"\u001b[39m] \u001b[38;5;241m=\u001b[39m data[\u001b[38;5;124m'\u001b[39m\u001b[38;5;124msales_train\u001b[39m\u001b[38;5;124m'\u001b[39m][\u001b[38;5;124m\"\u001b[39m\u001b[38;5;124mitem_cnt_day\u001b[39m\u001b[38;5;124m\"\u001b[39m] \u001b[38;5;241m*\u001b[39m data[\u001b[38;5;124m'\u001b[39m\u001b[38;5;124msales_train\u001b[39m\u001b[38;5;124m'\u001b[39m][\u001b[38;5;124m\"\u001b[39m\u001b[38;5;124mitem_price\u001b[39m\u001b[38;5;124m\"\u001b[39m]\n",
      "\u001b[1;31mNameError\u001b[0m: name 'data' is not defined"
     ]
    }
   ],
   "source": [
    "# add profit from sales\n",
    "pretrained_data[\"profit\"] = data['sales_train'][\"item_cnt_day\"] * data['sales_train'][\"item_price\"]"
   ]
  },
  {
   "cell_type": "code",
   "execution_count": null,
   "id": "544333b7",
   "metadata": {},
   "outputs": [],
   "source": [
    "# add count of sold items per month\n",
    "group = data['sales_train'].groupby([\"date_block_num\", \"shop_id\", \"item_id\"]).agg({\"item_cnt_day\": [\"sum\"]})\n",
    "group.columns = [\"item_cnt_month\"]\n",
    "group.reset_index(inplace = True)\n",
    "pretrained_data = mpd.merge(pretrained_data, group, on = cols, how = \"left\")\n",
    "pretrained_data[\"item_cnt_month\"] = pretrained_data[\"item_cnt_month\"].fillna(0)"
   ]
  },
  {
   "cell_type": "code",
   "execution_count": null,
   "id": "ed4732f7",
   "metadata": {},
   "outputs": [],
   "source": [
    "pretrained_data.head(2)"
   ]
  },
  {
   "cell_type": "code",
   "execution_count": null,
   "id": "f3e8ac10",
   "metadata": {},
   "outputs": [],
   "source": [
    "###### Substruct some categories from string data "
   ]
  },
  {
   "cell_type": "code",
   "execution_count": null,
   "id": "e416406b",
   "metadata": {},
   "outputs": [],
   "source": [
    "# item categories data\n",
    "pretrained_data[\"type_code\"] = pretrained_data.item_category_name.apply(lambda x: x.split(\" \")[0]).astype(str)\n",
    "pretrained_data.type_code = LabelEncoder().fit_transform(pretrained_data.type_code)"
   ]
  },
  {
   "cell_type": "code",
   "execution_count": null,
   "id": "b1ea9215",
   "metadata": {},
   "outputs": [],
   "source": [
    "pretrained_data.head(2)"
   ]
  },
  {
   "cell_type": "code",
   "execution_count": null,
   "id": "01abbdad",
   "metadata": {},
   "outputs": [],
   "source": [
    "pretrained_data[\"split\"] = pretrained_data.item_category_name.apply(lambda x: x.split(\"-\"))\n",
    "pretrained_data[\"subtype\"] = pretrained_data.split.apply(lambda x: x[1].strip() if len(x) > 1 else x[0].strip())\n",
    "pretrained_data[\"subtype_code\"] = LabelEncoder().fit_transform(pretrained_data[\"subtype\"])\n",
    "pretrained_data = pretrained_data.drop(columns=['item_category_name', 'split', 'subtype'])"
   ]
  },
  {
   "cell_type": "code",
   "execution_count": null,
   "id": "275859ed",
   "metadata": {},
   "outputs": [],
   "source": [
    "pretrained_data.head(2)"
   ]
  },
  {
   "cell_type": "code",
   "execution_count": null,
   "id": "8b765920",
   "metadata": {},
   "outputs": [],
   "source": [
    "%%time\n",
    "# shops data\n",
    "pretrained_data[\"shop_city\"] = pretrained_data.shop_name.str.split(\" \").map(lambda x: x[0])\n",
    "pretrained_data[\"shop_category\"] = pretrained_data.shop_name.str.split(\" \").map(lambda x: x[1])\n",
    "pretrained_data[\"shop_category\"] = LabelEncoder().fit_transform(pretrained_data.shop_category)\n",
    "pretrained_data[\"shop_city\"] = LabelEncoder().fit_transform(pretrained_data.shop_city)\n",
    "pretrained_data = pretrained_data.drop(columns=['shop_name'])"
   ]
  },
  {
   "cell_type": "code",
   "execution_count": null,
   "id": "b3a43576",
   "metadata": {},
   "outputs": [],
   "source": [
    "pretrained_data.head(2)"
   ]
  },
  {
   "cell_type": "code",
   "execution_count": null,
   "id": "45e0db08",
   "metadata": {},
   "outputs": [],
   "source": [
    "# item data\n",
    "pretrained_data[\"name1\"], pretrained_data[\"name2\"] = pretrained_data.item_name.str.split('[', n=1).str[0], pretrained_data.item_name.str.split('[', n=1).str[1]\n",
    "pretrained_data[\"name1\"], pretrained_data[\"name3\"] = pretrained_data.item_name.str.split('(', n=1).str[0], pretrained_data.item_name.str.split('(', n=1).str[1]\n",
    "\n",
    "# replace special characters and turn to lower case\n",
    "pretrained_data[\"name2\"] = pretrained_data.name2.str.replace('[^A-Za-z0-9А-Яа-я]+', \" \").str.lower()\n",
    "pretrained_data[\"name3\"] = pretrained_data.name3.str.replace('[^A-Za-z0-9А-Яа-я]+', \" \").str.lower()\n",
    "\n",
    "pretrained_data = pretrained_data.fillna('0')\n",
    "\n",
    "pretrained_data.name2 = LabelEncoder().fit_transform(pretrained_data.name2)\n",
    "pretrained_data.name3 = LabelEncoder().fit_transform(pretrained_data.name3)\n",
    "\n",
    "pretrained_data = pretrained_data.drop(columns=['name1', 'item_name']) "
   ]
  },
  {
   "cell_type": "code",
   "execution_count": null,
   "id": "6d222a31",
   "metadata": {},
   "outputs": [],
   "source": [
    "pretrained_data.head(2)"
   ]
  },
  {
   "cell_type": "code",
   "execution_count": null,
   "id": "ce7c91fb",
   "metadata": {},
   "outputs": [],
   "source": [
    "###### time series features"
   ]
  },
  {
   "cell_type": "code",
   "execution_count": null,
   "id": "52f3911c",
   "metadata": {},
   "outputs": [],
   "source": [
    "def extract_lag_feature(df, lags, col):\n",
    "    tmp = df[['date_block_num','shop_id','item_id',col]]\n",
    "    for i in lags:\n",
    "        shifted = tmp.copy()\n",
    "        shifted.columns = ['date_block_num','shop_id','item_id', col+'_lag_'+str(i)]\n",
    "        shifted['date_block_num'] += i\n",
    "        df = mpd.merge(df, shifted, on=['date_block_num','shop_id','item_id'], how='left')\n",
    "    return df"
   ]
  },
  {
   "cell_type": "code",
   "execution_count": null,
   "id": "52e963a6",
   "metadata": {},
   "outputs": [],
   "source": [
    "%%time\n",
    "# item count per month lag\n",
    "pretrained_data = extract_lag_feature(pretrained_data, [1, 2, 3, 12], 'item_cnt_month')"
   ]
  },
  {
   "cell_type": "code",
   "execution_count": null,
   "id": "caaa43ac",
   "metadata": {},
   "outputs": [],
   "source": [
    "pretrained_data.head()"
   ]
  },
  {
   "cell_type": "code",
   "execution_count": null,
   "id": "1f474cdc",
   "metadata": {},
   "outputs": [],
   "source": [
    "# lag of average item count sales per month \n",
    "\n",
    "group = pretrained_data.groupby([\"date_block_num\"] ).agg({\"item_cnt_month\" : \"mean\"})\n",
    "group.columns = [\"avg_by_month_item_cnt\"]\n",
    "group.reset_index()\n",
    "\n",
    "\n",
    "pretrained_data = mpd.merge(pretrained_data, group, on = [\"date_block_num\"], how = \"left\")\n",
    "del(group)\n",
    "pretrained_data = extract_lag_feature(pretrained_data, [1, 2, 3], \"avg_by_month_item_cnt\")\n",
    "pretrained_data.drop([\"avg_by_month_item_cnt\"], axis = 1, inplace = True)"
   ]
  },
  {
   "cell_type": "code",
   "execution_count": null,
   "id": "fe1c48b8",
   "metadata": {},
   "outputs": [],
   "source": [
    "pretrained_data.head(2)"
   ]
  },
  {
   "cell_type": "code",
   "execution_count": null,
   "id": "f484f2e1",
   "metadata": {},
   "outputs": [],
   "source": [
    "# lag of average item sales per month of each id\n",
    "\n",
    "group = pretrained_data.groupby(['date_block_num', 'item_id']).agg({'item_cnt_month': 'mean'})\n",
    "group.columns = ['avg_by_month_item_id_item_cnt']\n",
    "group = group.reset_index()\n",
    "\n",
    "\n",
    "pretrained_data = mpd.merge(pretrained_data, group, on=['date_block_num', 'item_id'], how='left')\n",
    "del(group)\n",
    "pretrained_data = extract_lag_feature(pretrained_data, [1, 2, 3, 12], \"avg_by_month_item_id_item_cnt\")\n",
    "pretrained_data.drop(columns = ['avg_by_month_item_id_item_cnt'], axis = 1, inplace = True)"
   ]
  },
  {
   "cell_type": "code",
   "execution_count": null,
   "id": "11beb4ab",
   "metadata": {},
   "outputs": [],
   "source": [
    "pretrained_data.tail(2)"
   ]
  },
  {
   "cell_type": "code",
   "execution_count": null,
   "id": "6d8087d6",
   "metadata": {},
   "outputs": [],
   "source": [
    "# lag of average item sales per month of each shop\n",
    "\n",
    "group = pretrained_data.groupby(['date_block_num', 'shop_id']).agg({'item_cnt_month': 'mean'})\n",
    "group.columns = ['avg_by_month_shop_item_cnt']\n",
    "group = group.reset_index()\n",
    "\n",
    "pretrained_data = mpd.merge(pretrained_data, group, on=['date_block_num', 'shop_id'], how='left')\n",
    "\n",
    "pretrained_data = extract_lag_feature(pretrained_data, [1,2,3], \"avg_by_month_shop_item_cnt\")\n",
    "pretrained_data.drop(columns = ['avg_by_month_shop_item_cnt'], axis = 1, inplace = True)"
   ]
  },
  {
   "cell_type": "code",
   "execution_count": null,
   "id": "97b1f16a",
   "metadata": {},
   "outputs": [],
   "source": [
    "pretrained_data.tail(2)"
   ]
  },
  {
   "cell_type": "code",
   "execution_count": null,
   "id": "536b5abe",
   "metadata": {},
   "outputs": [],
   "source": [
    "# lag of average item sales per month of each city\n",
    "\n",
    "group = pretrained_data.groupby(['date_block_num', 'shop_city']).agg({'item_cnt_month': 'mean'})\n",
    "group.columns = ['avg_by_month_city_item_cnt']\n",
    "group = group.reset_index()\n",
    "\n",
    "\n",
    "pretrained_data = mpd.merge(pretrained_data, group, on=['date_block_num', 'shop_city'], how='left')\n",
    "del(group)\n",
    "pretrained_data = extract_lag_feature( pretrained_data, [1], \"avg_by_month_city_item_cnt\" )\n",
    "pretrained_data.drop(columns = ['avg_by_month_city_item_cnt'], axis = 1, inplace = True)"
   ]
  },
  {
   "cell_type": "code",
   "execution_count": null,
   "id": "fc700dff",
   "metadata": {},
   "outputs": [],
   "source": [
    "pretrained_data.tail(2)"
   ]
  },
  {
   "cell_type": "code",
   "execution_count": null,
   "id": "e974248a",
   "metadata": {},
   "outputs": [],
   "source": [
    "# lag of average item sales per month of each category\n",
    "\n",
    "group = pretrained_data.groupby(['date_block_num', 'item_category_id']).agg({'item_cnt_month': 'mean'})\n",
    "group.columns = ['avg_by_month_cat_item_cnt']\n",
    "group = group.reset_index()\n",
    "\n",
    "\n",
    "pretrained_data = mpd.merge(pretrained_data, group, on=['date_block_num', 'item_category_id'], how='left')\n",
    "del(group)\n",
    "pretrained_data = extract_lag_feature(pretrained_data, [1], \"avg_by_month_cat_item_cnt\")\n",
    "pretrained_data.drop(columns = ['avg_by_month_cat_item_cnt'], axis = 1, inplace = True)"
   ]
  },
  {
   "cell_type": "code",
   "execution_count": null,
   "id": "c4f26c66",
   "metadata": {},
   "outputs": [],
   "source": [
    "pretrained_data.tail(2)"
   ]
  },
  {
   "cell_type": "code",
   "execution_count": null,
   "id": "55a35d04",
   "metadata": {},
   "outputs": [],
   "source": [
    "###### Add clusters features"
   ]
  },
  {
   "cell_type": "code",
   "execution_count": null,
   "id": "8aabf096",
   "metadata": {},
   "outputs": [],
   "source": [
    "# price clusters"
   ]
  },
  {
   "cell_type": "code",
   "execution_count": null,
   "id": "e484d935",
   "metadata": {},
   "outputs": [],
   "source": [
    "# shop clusters"
   ]
  },
  {
   "cell_type": "code",
   "execution_count": null,
   "id": "46598188",
   "metadata": {},
   "outputs": [],
   "source": [
    "# categories cluster"
   ]
  },
  {
   "cell_type": "code",
   "execution_count": null,
   "id": "ab55d71e",
   "metadata": {},
   "outputs": [],
   "source": [
    "# split good_pairs only item_id info?"
   ]
  },
  {
   "cell_type": "code",
   "execution_count": null,
   "id": "b958f8aa",
   "metadata": {},
   "outputs": [],
   "source": [
    "###### Other usefull features"
   ]
  },
  {
   "cell_type": "markdown",
   "id": "707e0262",
   "metadata": {},
   "source": [
    "1. mean of price by month\n",
    "2. item first sale\n",
    "3. item last sale\n",
    "4. change of sales of item/price by month"
   ]
  }
 ],
 "metadata": {
  "kernelspec": {
   "display_name": "Python 3 (ipykernel)",
   "language": "python",
   "name": "python3"
  },
  "language_info": {
   "codemirror_mode": {
    "name": "ipython",
    "version": 3
   },
   "file_extension": ".py",
   "mimetype": "text/x-python",
   "name": "python",
   "nbconvert_exporter": "python",
   "pygments_lexer": "ipython3",
   "version": "3.11.4"
  }
 },
 "nbformat": 4,
 "nbformat_minor": 5
}
