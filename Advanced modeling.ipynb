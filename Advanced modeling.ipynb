{
 "cells": [
  {
   "cell_type": "markdown",
   "id": "b55ec7d5",
   "metadata": {},
   "source": [
    "### Advanced modeling"
   ]
  },
  {
   "cell_type": "code",
   "execution_count": 9,
   "id": "a46a427c",
   "metadata": {},
   "outputs": [],
   "source": [
    "# linear algebra\n",
    "import numpy as np\n",
    "\n",
    "#working with data in table structers\n",
    "import pandas as pd\n",
    "pd.set_option('display.float_format', lambda x: '%.2f' % x)\n",
    "\n",
    "# data visualization\n",
    "import seaborn as sns\n",
    "import matplotlib.pyplot as plt\n",
    "\n",
    "\n",
    "# working with files\n",
    "import sys\n",
    "import os\n",
    "\n",
    "# to off warnings\n",
    "import warnings\n",
    "warnings.filterwarnings('ignore')\n",
    "\n",
    "# validation schema \n",
    "import time\n",
    "from datetime import timedelta, datetime\n",
    "from sklearn.model_selection import TimeSeriesSplit\n",
    "from collections import defaultdict\n",
    "from sklearn.metrics import mean_squared_error as mse\n",
    "from sklearn.tree import DecisionTreeRegressor\n",
    "from sklearn.ensemble import RandomForestRegressor"
   ]
  },
  {
   "cell_type": "code",
   "execution_count": 10,
   "id": "58734fab",
   "metadata": {},
   "outputs": [],
   "source": [
    "# # using ray engine for parallel calculation(for oprimization)\n",
    "# %env MODIN_ENGINE=ray\n",
    "# import modin.pandas as mpd"
   ]
  },
  {
   "cell_type": "markdown",
   "id": "4b3b5022",
   "metadata": {},
   "source": [
    "### Read data"
   ]
  },
  {
   "cell_type": "code",
   "execution_count": 11,
   "id": "7274c38d",
   "metadata": {},
   "outputs": [],
   "source": [
    "# add data path to sys.path \n",
    "train_test_data_path = \"C:\\\\Repository\\\\DS-Intership-data\\\\train_test_data\\\\\"\n",
    "sys.path.append(train_test_data_path)\n",
    "\n",
    "# initiate dict for data\n",
    "to_read_train_test_data = {}\n",
    "\n",
    "# fill to_read\n",
    "for dir_name, _, files in os.walk(train_test_data_path):\n",
    "    for file in files:\n",
    "        to_read_train_test_data[file] = dir_name + file"
   ]
  },
  {
   "cell_type": "code",
   "execution_count": 12,
   "id": "3411f5e4",
   "metadata": {},
   "outputs": [
    {
     "data": {
      "text/plain": [
       "{'sample_submission.csv': 'C:\\\\Repository\\\\DS-Intership-data\\\\train_test_data\\\\sample_submission.csv',\n",
       " 'test_data.csv': 'C:\\\\Repository\\\\DS-Intership-data\\\\train_test_data\\\\test_data.csv',\n",
       " 'train_data.csv': 'C:\\\\Repository\\\\DS-Intership-data\\\\train_test_data\\\\train_data.csv'}"
      ]
     },
     "execution_count": 12,
     "metadata": {},
     "output_type": "execute_result"
    }
   ],
   "source": [
    "# check to_read\n",
    "to_read_train_test_data"
   ]
  },
  {
   "cell_type": "code",
   "execution_count": 13,
   "id": "76695364",
   "metadata": {},
   "outputs": [
    {
     "name": "stdout",
     "output_type": "stream",
     "text": [
      "CPU times: total: 41 s\n",
      "Wall time: 47.6 s\n"
     ]
    }
   ],
   "source": [
    "%%time\n",
    "data = {}\n",
    "# read data\n",
    "for file, path in to_read_train_test_data.items():\n",
    "    data[file.split('.')[0]] = pd.read_csv(os.path.join(os.path.dirname(path), file), index_col=0)"
   ]
  },
  {
   "cell_type": "markdown",
   "id": "49ee1110",
   "metadata": {},
   "source": [
    "### Machine learning pipeline modeling"
   ]
  },
  {
   "cell_type": "code",
   "execution_count": 14,
   "id": "7b046c2d",
   "metadata": {},
   "outputs": [],
   "source": [
    "class Pipeline:\n",
    "    def __init__(self, train_data,\n",
    "                test_data, metrics=['rmse'],\n",
    "                model=DecisionTreeRegressor(max_depth=1, random_state=42),\n",
    "                check_nans = True,\n",
    "                check_infs = True,\n",
    "                feature_importance_layer=True,\n",
    "                hyperparametr_optimization_layer=True,\n",
    "                explainability_layer=True,\n",
    "                error_analysis_layer=True\n",
    "                ):\n",
    "        self.train_data = train_data\n",
    "        self.test_data = test_data\n",
    "        self.metrics = metrics\n",
    "        self.model = model\n",
    "        self.hyperparametr_optimization_layer=hyperparametr_optimization_layer\n",
    "        self.explainability_layer=explainability_layer\n",
    "        self.error_analysis_layer=error_analysis_layer\n",
    "\n",
    "        # Check data for valid columns\n",
    "        assert set([\n",
    "            'date_block_num',\n",
    "            'shop_id',\n",
    "            'item_category_id',\n",
    "            'item_id',\n",
    "            'item_cnt_month'\n",
    "        ]).issubset(train_data.columns),\\\n",
    "            \"Invalid data\"\n",
    "\n",
    "        assert set([\n",
    "            'shop_id',\n",
    "            'item_id',\n",
    "            'ID'\n",
    "        ]).issubset(test_data.columns),\\\n",
    "            \"Invalid data\"\n",
    "\n",
    "         # Check for valid variables\n",
    "        if check_nans:\n",
    "            assert train_data.isna().sum().sum() == 0, 'Data have NaNs'\n",
    "        if check_infs:\n",
    "            assert np.isfinite(train_data).sum().sum() != 0, 'Data have Infs'\n",
    "\n",
    "        self.X = train_data.drop(columns='item_cnt_month')\n",
    "        self.y = train_data[['item_id', 'shop_id', 'item_cnt_month']]\n",
    "        \n",
    "    def calculate_metrics(self, y_pred, y_true):\n",
    "        rmse = mse(y_true, y_pred, squared=True)\n",
    "        return rmse\n",
    "    \n",
    "    # Predict sales for target month (November 2015)\n",
    "    def predict_target(self, predictions_by_ID = True):\n",
    "        X_train, y_train = self.train_data[self.train_data.date_block_num != 34].drop(columns=['item_cnt_month']),\\\n",
    "                           self.train_data[self.train_data.date_block_num != 34].item_cnt_month\n",
    "        X_test, y_test = self.train_data[self.train_data.date_block_num == 34].drop(columns=['item_cnt_month']),\\\n",
    "                         self.train_data[self.train_data.date_block_num == 34].item_cnt_month\n",
    "        model = self.model\n",
    "        model.fit(X_train, y_train)\n",
    "        if predictions_by_ID:\n",
    "            return X_test.join(pd.DataFrame(index=X_test.index, data=model.predict(X_test.values), columns=['item_cnt_month']))\\\n",
    "                                        [['item_id', 'shop_id', 'item_cnt_month']].\\\n",
    "                                        merge(self.test_data, on=['shop_id', 'item_id'], how='right').drop_duplicates()\n",
    "        else:\n",
    "            return model.predict(X_test)\n",
    "        \n",
    "    def feature_importance_layer(self):\n",
    "        pass\n",
    "    def hyperparametr_optimization_layer(self):\n",
    "        pass\n",
    "    def explainability_layer(self):\n",
    "        pass\n",
    "    def error_analysis_layer(self):\n",
    "        pass\n",
    "    \n",
    "    def evaluate(self):\n",
    "        # optimal_hyperparametres = self.hyperparametr_optimization_layer()\n",
    "        # important_features = self.feature_importance_layer()\n",
    "        predictions = self.predict_target() # optimal_hyperparametres, important_features)\n",
    "        # model_explanation = self.explainability_layer()\n",
    "        # error_analysis = self.error_analysis_layer()\n",
    "        return predictions"
   ]
  },
  {
   "cell_type": "code",
   "execution_count": 15,
   "id": "041b31ac",
   "metadata": {},
   "outputs": [
    {
     "name": "stdout",
     "output_type": "stream",
     "text": [
      "CPU times: total: 2.05 s\n",
      "Wall time: 2.21 s\n"
     ]
    }
   ],
   "source": [
    "%%time\n",
    "test_pipeline = Pipeline(train_data=data['train_data'],\n",
    "                 test_data=data['test_data'],\n",
    "                 metrics=['rmse'],\n",
    "                 model = DecisionTreeRegressor(max_depth=2, random_state=42),\n",
    "                 check_nans=False\n",
    "                )"
   ]
  },
  {
   "cell_type": "code",
   "execution_count": 16,
   "id": "5bdfbf8d",
   "metadata": {},
   "outputs": [
    {
     "name": "stdout",
     "output_type": "stream",
     "text": [
      "CPU times: total: 1min 2s\n",
      "Wall time: 1min 24s\n"
     ]
    },
    {
     "data": {
      "text/html": [
       "<div>\n",
       "<style scoped>\n",
       "    .dataframe tbody tr th:only-of-type {\n",
       "        vertical-align: middle;\n",
       "    }\n",
       "\n",
       "    .dataframe tbody tr th {\n",
       "        vertical-align: top;\n",
       "    }\n",
       "\n",
       "    .dataframe thead th {\n",
       "        text-align: right;\n",
       "    }\n",
       "</style>\n",
       "<table border=\"1\" class=\"dataframe\">\n",
       "  <thead>\n",
       "    <tr style=\"text-align: right;\">\n",
       "      <th></th>\n",
       "      <th>item_id</th>\n",
       "      <th>shop_id</th>\n",
       "      <th>item_cnt_month</th>\n",
       "      <th>ID</th>\n",
       "      <th>date_block_num</th>\n",
       "    </tr>\n",
       "  </thead>\n",
       "  <tbody>\n",
       "    <tr>\n",
       "      <th>0</th>\n",
       "      <td>5037</td>\n",
       "      <td>5</td>\n",
       "      <td>0.33</td>\n",
       "      <td>0</td>\n",
       "      <td>34</td>\n",
       "    </tr>\n",
       "    <tr>\n",
       "      <th>2</th>\n",
       "      <td>5320</td>\n",
       "      <td>5</td>\n",
       "      <td>0.33</td>\n",
       "      <td>1</td>\n",
       "      <td>34</td>\n",
       "    </tr>\n",
       "    <tr>\n",
       "      <th>3</th>\n",
       "      <td>5233</td>\n",
       "      <td>5</td>\n",
       "      <td>0.33</td>\n",
       "      <td>2</td>\n",
       "      <td>34</td>\n",
       "    </tr>\n",
       "    <tr>\n",
       "      <th>5</th>\n",
       "      <td>5232</td>\n",
       "      <td>5</td>\n",
       "      <td>0.33</td>\n",
       "      <td>3</td>\n",
       "      <td>34</td>\n",
       "    </tr>\n",
       "    <tr>\n",
       "      <th>7</th>\n",
       "      <td>5268</td>\n",
       "      <td>5</td>\n",
       "      <td>0.33</td>\n",
       "      <td>4</td>\n",
       "      <td>34</td>\n",
       "    </tr>\n",
       "    <tr>\n",
       "      <th>...</th>\n",
       "      <td>...</td>\n",
       "      <td>...</td>\n",
       "      <td>...</td>\n",
       "      <td>...</td>\n",
       "      <td>...</td>\n",
       "    </tr>\n",
       "    <tr>\n",
       "      <th>309449</th>\n",
       "      <td>18454</td>\n",
       "      <td>45</td>\n",
       "      <td>0.33</td>\n",
       "      <td>214195</td>\n",
       "      <td>34</td>\n",
       "    </tr>\n",
       "    <tr>\n",
       "      <th>309450</th>\n",
       "      <td>16188</td>\n",
       "      <td>45</td>\n",
       "      <td>0.33</td>\n",
       "      <td>214196</td>\n",
       "      <td>34</td>\n",
       "    </tr>\n",
       "    <tr>\n",
       "      <th>309451</th>\n",
       "      <td>15757</td>\n",
       "      <td>45</td>\n",
       "      <td>0.33</td>\n",
       "      <td>214197</td>\n",
       "      <td>34</td>\n",
       "    </tr>\n",
       "    <tr>\n",
       "      <th>309452</th>\n",
       "      <td>19648</td>\n",
       "      <td>45</td>\n",
       "      <td>0.33</td>\n",
       "      <td>214198</td>\n",
       "      <td>34</td>\n",
       "    </tr>\n",
       "    <tr>\n",
       "      <th>309454</th>\n",
       "      <td>969</td>\n",
       "      <td>45</td>\n",
       "      <td>0.33</td>\n",
       "      <td>214199</td>\n",
       "      <td>34</td>\n",
       "    </tr>\n",
       "  </tbody>\n",
       "</table>\n",
       "<p>214200 rows × 5 columns</p>\n",
       "</div>"
      ],
      "text/plain": [
       "        item_id  shop_id  item_cnt_month      ID  date_block_num\n",
       "0          5037        5            0.33       0              34\n",
       "2          5320        5            0.33       1              34\n",
       "3          5233        5            0.33       2              34\n",
       "5          5232        5            0.33       3              34\n",
       "7          5268        5            0.33       4              34\n",
       "...         ...      ...             ...     ...             ...\n",
       "309449    18454       45            0.33  214195              34\n",
       "309450    16188       45            0.33  214196              34\n",
       "309451    15757       45            0.33  214197              34\n",
       "309452    19648       45            0.33  214198              34\n",
       "309454      969       45            0.33  214199              34\n",
       "\n",
       "[214200 rows x 5 columns]"
      ]
     },
     "execution_count": 16,
     "metadata": {},
     "output_type": "execute_result"
    }
   ],
   "source": [
    "%%time\n",
    "test_pipeline.evaluate()"
   ]
  }
 ],
 "metadata": {
  "kernelspec": {
   "display_name": "Python 3 (ipykernel)",
   "language": "python",
   "name": "python3"
  },
  "language_info": {
   "codemirror_mode": {
    "name": "ipython",
    "version": 3
   },
   "file_extension": ".py",
   "mimetype": "text/x-python",
   "name": "python",
   "nbconvert_exporter": "python",
   "pygments_lexer": "ipython3",
   "version": "3.11.4"
  }
 },
 "nbformat": 4,
 "nbformat_minor": 5
}
